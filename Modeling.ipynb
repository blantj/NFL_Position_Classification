{
 "cells": [
  {
   "cell_type": "markdown",
   "id": "ca1a6951",
   "metadata": {},
   "source": [
    "# Import Libraries"
   ]
  },
  {
   "cell_type": "code",
   "execution_count": 59,
   "id": "5abd9663",
   "metadata": {},
   "outputs": [],
   "source": [
    "import numpy as np\n",
    "import pandas as pd\n",
    "from scipy.stats import ttest_ind\n",
    "from sklearn.model_selection import train_test_split\n",
    "from sklearn.preprocessing import StandardScaler\n",
    "from sklearn.impute import KNNImputer\n",
    "from sklearn.ensemble import AdaBoostClassifier, IsolationForest, RandomForestClassifier, VotingClassifier\n",
    "import matplotlib.pyplot as plt\n",
    "import seaborn as sns\n",
    "from statsmodels.tools.tools import add_constant\n",
    "from statsmodels.stats.outliers_influence import variance_inflation_factor\n",
    "from scipy.stats import ttest_ind\n",
    "from sklearn.manifold import TSNE\n",
    "from sklearn.dummy import DummyClassifier\n",
    "from sklearn.metrics import f1_score, accuracy_score, confusion_matrix\n",
    "from sklearn.model_selection import GridSearchCV\n",
    "from sklearn.linear_model import LogisticRegression"
   ]
  },
  {
   "cell_type": "markdown",
   "id": "05ed18ce",
   "metadata": {},
   "source": [
    "# Obtain Data"
   ]
  },
  {
   "cell_type": "markdown",
   "id": "9452a8f5",
   "metadata": {},
   "source": [
    "Read csv file with combine data into pandas"
   ]
  },
  {
   "cell_type": "code",
   "execution_count": 46,
   "id": "8c5896e7",
   "metadata": {},
   "outputs": [
    {
     "data": {
      "text/html": [
       "<div>\n",
       "<style scoped>\n",
       "    .dataframe tbody tr th:only-of-type {\n",
       "        vertical-align: middle;\n",
       "    }\n",
       "\n",
       "    .dataframe tbody tr th {\n",
       "        vertical-align: top;\n",
       "    }\n",
       "\n",
       "    .dataframe thead th {\n",
       "        text-align: right;\n",
       "    }\n",
       "</style>\n",
       "<table border=\"1\" class=\"dataframe\">\n",
       "  <thead>\n",
       "    <tr style=\"text-align: right;\">\n",
       "      <th></th>\n",
       "      <th>Year</th>\n",
       "      <th>Player</th>\n",
       "      <th>Position</th>\n",
       "      <th>School</th>\n",
       "      <th>College Stats</th>\n",
       "      <th>Height</th>\n",
       "      <th>Weight</th>\n",
       "      <th>40 Yd Dash</th>\n",
       "      <th>Vertical</th>\n",
       "      <th>Bench</th>\n",
       "      <th>Broad Jump</th>\n",
       "      <th>3 Cone</th>\n",
       "      <th>Shuttle</th>\n",
       "      <th>Draft</th>\n",
       "    </tr>\n",
       "  </thead>\n",
       "  <tbody>\n",
       "    <tr>\n",
       "      <th>0</th>\n",
       "      <td>2015</td>\n",
       "      <td>Ameer Abdullah</td>\n",
       "      <td>RB</td>\n",
       "      <td>Nebraska</td>\n",
       "      <td>College Stats</td>\n",
       "      <td>5-9</td>\n",
       "      <td>205.0</td>\n",
       "      <td>4.60</td>\n",
       "      <td>42.5</td>\n",
       "      <td>24.0</td>\n",
       "      <td>130.0</td>\n",
       "      <td>6.79</td>\n",
       "      <td>3.95</td>\n",
       "      <td>Detroit Lions / 2nd / 54th pick / 2015</td>\n",
       "    </tr>\n",
       "    <tr>\n",
       "      <th>1</th>\n",
       "      <td>2015</td>\n",
       "      <td>Nelson Agholor</td>\n",
       "      <td>WR</td>\n",
       "      <td>USC</td>\n",
       "      <td>College Stats</td>\n",
       "      <td>6-0</td>\n",
       "      <td>198.0</td>\n",
       "      <td>4.42</td>\n",
       "      <td>NaN</td>\n",
       "      <td>12.0</td>\n",
       "      <td>NaN</td>\n",
       "      <td>NaN</td>\n",
       "      <td>NaN</td>\n",
       "      <td>Philadelphia Eagles / 1st / 20th pick / 2015</td>\n",
       "    </tr>\n",
       "    <tr>\n",
       "      <th>2</th>\n",
       "      <td>2015</td>\n",
       "      <td>Jay Ajayi</td>\n",
       "      <td>RB</td>\n",
       "      <td>Boise State</td>\n",
       "      <td>College Stats</td>\n",
       "      <td>6-0</td>\n",
       "      <td>221.0</td>\n",
       "      <td>4.57</td>\n",
       "      <td>39.0</td>\n",
       "      <td>19.0</td>\n",
       "      <td>121.0</td>\n",
       "      <td>7.10</td>\n",
       "      <td>4.10</td>\n",
       "      <td>Miami Dolphins / 5th / 149th pick / 2015</td>\n",
       "    </tr>\n",
       "    <tr>\n",
       "      <th>3</th>\n",
       "      <td>2015</td>\n",
       "      <td>Kwon Alexander</td>\n",
       "      <td>OLB</td>\n",
       "      <td>LSU</td>\n",
       "      <td>College Stats</td>\n",
       "      <td>6-1</td>\n",
       "      <td>227.0</td>\n",
       "      <td>4.55</td>\n",
       "      <td>36.0</td>\n",
       "      <td>24.0</td>\n",
       "      <td>121.0</td>\n",
       "      <td>7.14</td>\n",
       "      <td>4.20</td>\n",
       "      <td>Tampa Bay Buccaneers / 4th / 124th pick / 2015</td>\n",
       "    </tr>\n",
       "    <tr>\n",
       "      <th>4</th>\n",
       "      <td>2015</td>\n",
       "      <td>Mario Alford</td>\n",
       "      <td>WR</td>\n",
       "      <td>West Virginia</td>\n",
       "      <td>College Stats</td>\n",
       "      <td>5-8</td>\n",
       "      <td>180.0</td>\n",
       "      <td>4.43</td>\n",
       "      <td>34.0</td>\n",
       "      <td>13.0</td>\n",
       "      <td>121.0</td>\n",
       "      <td>6.64</td>\n",
       "      <td>4.07</td>\n",
       "      <td>Cincinnati Bengals / 7th / 238th pick / 2015</td>\n",
       "    </tr>\n",
       "  </tbody>\n",
       "</table>\n",
       "</div>"
      ],
      "text/plain": [
       "   Year          Player Position         School  College Stats Height  Weight  \\\n",
       "0  2015  Ameer Abdullah       RB       Nebraska  College Stats    5-9   205.0   \n",
       "1  2015  Nelson Agholor       WR            USC  College Stats    6-0   198.0   \n",
       "2  2015       Jay Ajayi       RB    Boise State  College Stats    6-0   221.0   \n",
       "3  2015  Kwon Alexander      OLB            LSU  College Stats    6-1   227.0   \n",
       "4  2015    Mario Alford       WR  West Virginia  College Stats    5-8   180.0   \n",
       "\n",
       "   40 Yd Dash  Vertical  Bench  Broad Jump  3 Cone  Shuttle  \\\n",
       "0        4.60      42.5   24.0       130.0    6.79     3.95   \n",
       "1        4.42       NaN   12.0         NaN     NaN      NaN   \n",
       "2        4.57      39.0   19.0       121.0    7.10     4.10   \n",
       "3        4.55      36.0   24.0       121.0    7.14     4.20   \n",
       "4        4.43      34.0   13.0       121.0    6.64     4.07   \n",
       "\n",
       "                                            Draft  \n",
       "0          Detroit Lions / 2nd / 54th pick / 2015  \n",
       "1    Philadelphia Eagles / 1st / 20th pick / 2015  \n",
       "2        Miami Dolphins / 5th / 149th pick / 2015  \n",
       "3  Tampa Bay Buccaneers / 4th / 124th pick / 2015  \n",
       "4    Cincinnati Bengals / 7th / 238th pick / 2015  "
      ]
     },
     "execution_count": 46,
     "metadata": {},
     "output_type": "execute_result"
    }
   ],
   "source": [
    "df = pd.read_csv('Data/Combine_Data.csv')\n",
    "df.head()"
   ]
  },
  {
   "cell_type": "markdown",
   "id": "343f4f61",
   "metadata": {},
   "source": [
    "Filter df to only include WR and CB Position players"
   ]
  },
  {
   "cell_type": "code",
   "execution_count": 47,
   "id": "b9547905",
   "metadata": {},
   "outputs": [
    {
     "name": "stdout",
     "output_type": "stream",
     "text": [
      "df shape: (506, 14)\n"
     ]
    },
    {
     "data": {
      "text/html": [
       "<div>\n",
       "<style scoped>\n",
       "    .dataframe tbody tr th:only-of-type {\n",
       "        vertical-align: middle;\n",
       "    }\n",
       "\n",
       "    .dataframe tbody tr th {\n",
       "        vertical-align: top;\n",
       "    }\n",
       "\n",
       "    .dataframe thead th {\n",
       "        text-align: right;\n",
       "    }\n",
       "</style>\n",
       "<table border=\"1\" class=\"dataframe\">\n",
       "  <thead>\n",
       "    <tr style=\"text-align: right;\">\n",
       "      <th></th>\n",
       "      <th>Year</th>\n",
       "      <th>Player</th>\n",
       "      <th>Position</th>\n",
       "      <th>School</th>\n",
       "      <th>College Stats</th>\n",
       "      <th>Height</th>\n",
       "      <th>Weight</th>\n",
       "      <th>40 Yd Dash</th>\n",
       "      <th>Vertical</th>\n",
       "      <th>Bench</th>\n",
       "      <th>Broad Jump</th>\n",
       "      <th>3 Cone</th>\n",
       "      <th>Shuttle</th>\n",
       "      <th>Draft</th>\n",
       "    </tr>\n",
       "  </thead>\n",
       "  <tbody>\n",
       "    <tr>\n",
       "      <th>0</th>\n",
       "      <td>2015</td>\n",
       "      <td>Nelson Agholor</td>\n",
       "      <td>WR</td>\n",
       "      <td>USC</td>\n",
       "      <td>College Stats</td>\n",
       "      <td>6-0</td>\n",
       "      <td>198.0</td>\n",
       "      <td>4.42</td>\n",
       "      <td>NaN</td>\n",
       "      <td>12.0</td>\n",
       "      <td>NaN</td>\n",
       "      <td>NaN</td>\n",
       "      <td>NaN</td>\n",
       "      <td>Philadelphia Eagles / 1st / 20th pick / 2015</td>\n",
       "    </tr>\n",
       "    <tr>\n",
       "      <th>1</th>\n",
       "      <td>2015</td>\n",
       "      <td>Mario Alford</td>\n",
       "      <td>WR</td>\n",
       "      <td>West Virginia</td>\n",
       "      <td>College Stats</td>\n",
       "      <td>5-8</td>\n",
       "      <td>180.0</td>\n",
       "      <td>4.43</td>\n",
       "      <td>34.0</td>\n",
       "      <td>13.0</td>\n",
       "      <td>121.0</td>\n",
       "      <td>6.64</td>\n",
       "      <td>4.07</td>\n",
       "      <td>Cincinnati Bengals / 7th / 238th pick / 2015</td>\n",
       "    </tr>\n",
       "    <tr>\n",
       "      <th>2</th>\n",
       "      <td>2015</td>\n",
       "      <td>Dres Anderson</td>\n",
       "      <td>WR</td>\n",
       "      <td>Utah</td>\n",
       "      <td>College Stats</td>\n",
       "      <td>6-1</td>\n",
       "      <td>187.0</td>\n",
       "      <td>4.54</td>\n",
       "      <td>NaN</td>\n",
       "      <td>13.0</td>\n",
       "      <td>NaN</td>\n",
       "      <td>NaN</td>\n",
       "      <td>NaN</td>\n",
       "      <td>NaN</td>\n",
       "    </tr>\n",
       "    <tr>\n",
       "      <th>3</th>\n",
       "      <td>2015</td>\n",
       "      <td>Kenny Bell</td>\n",
       "      <td>WR</td>\n",
       "      <td>Nebraska</td>\n",
       "      <td>College Stats</td>\n",
       "      <td>6-1</td>\n",
       "      <td>197.0</td>\n",
       "      <td>4.42</td>\n",
       "      <td>41.5</td>\n",
       "      <td>7.0</td>\n",
       "      <td>129.0</td>\n",
       "      <td>6.66</td>\n",
       "      <td>4.15</td>\n",
       "      <td>Tampa Bay Buccaneers / 5th / 162nd pick / 2015</td>\n",
       "    </tr>\n",
       "    <tr>\n",
       "      <th>4</th>\n",
       "      <td>2015</td>\n",
       "      <td>Da'Ron Brown</td>\n",
       "      <td>WR</td>\n",
       "      <td>Northern Illinois</td>\n",
       "      <td>College Stats</td>\n",
       "      <td>6-0</td>\n",
       "      <td>205.0</td>\n",
       "      <td>4.54</td>\n",
       "      <td>37.0</td>\n",
       "      <td>17.0</td>\n",
       "      <td>120.0</td>\n",
       "      <td>7.04</td>\n",
       "      <td>4.11</td>\n",
       "      <td>Kansas City Chiefs / 7th / 233rd pick / 2015</td>\n",
       "    </tr>\n",
       "  </tbody>\n",
       "</table>\n",
       "</div>"
      ],
      "text/plain": [
       "   Year          Player Position             School  College Stats Height  \\\n",
       "0  2015  Nelson Agholor       WR                USC  College Stats    6-0   \n",
       "1  2015    Mario Alford       WR      West Virginia  College Stats    5-8   \n",
       "2  2015   Dres Anderson       WR               Utah  College Stats    6-1   \n",
       "3  2015      Kenny Bell       WR           Nebraska  College Stats    6-1   \n",
       "4  2015    Da'Ron Brown       WR  Northern Illinois  College Stats    6-0   \n",
       "\n",
       "   Weight  40 Yd Dash  Vertical  Bench  Broad Jump  3 Cone  Shuttle  \\\n",
       "0   198.0        4.42       NaN   12.0         NaN     NaN      NaN   \n",
       "1   180.0        4.43      34.0   13.0       121.0    6.64     4.07   \n",
       "2   187.0        4.54       NaN   13.0         NaN     NaN      NaN   \n",
       "3   197.0        4.42      41.5    7.0       129.0    6.66     4.15   \n",
       "4   205.0        4.54      37.0   17.0       120.0    7.04     4.11   \n",
       "\n",
       "                                            Draft  \n",
       "0    Philadelphia Eagles / 1st / 20th pick / 2015  \n",
       "1    Cincinnati Bengals / 7th / 238th pick / 2015  \n",
       "2                                             NaN  \n",
       "3  Tampa Bay Buccaneers / 5th / 162nd pick / 2015  \n",
       "4    Kansas City Chiefs / 7th / 233rd pick / 2015  "
      ]
     },
     "execution_count": 47,
     "metadata": {},
     "output_type": "execute_result"
    }
   ],
   "source": [
    "df = df[(df['Position'] == 'WR') | (df['Position'] == 'CB')]\n",
    "df.reset_index(drop=True, inplace=True)\n",
    "print('df shape:', df.shape)\n",
    "df.head()"
   ]
  },
  {
   "cell_type": "markdown",
   "id": "ec3ecdb4",
   "metadata": {},
   "source": [
    "# Scrub Data"
   ]
  },
  {
   "cell_type": "code",
   "execution_count": 48,
   "id": "271a76c5",
   "metadata": {},
   "outputs": [
    {
     "name": "stdout",
     "output_type": "stream",
     "text": [
      "<class 'pandas.core.frame.DataFrame'>\n",
      "RangeIndex: 506 entries, 0 to 505\n",
      "Data columns (total 14 columns):\n",
      " #   Column         Non-Null Count  Dtype  \n",
      "---  ------         --------------  -----  \n",
      " 0   Year           506 non-null    int64  \n",
      " 1   Player         506 non-null    object \n",
      " 2   Position       506 non-null    object \n",
      " 3   School         506 non-null    object \n",
      " 4   College Stats  464 non-null    object \n",
      " 5   Height         506 non-null    object \n",
      " 6   Weight         506 non-null    float64\n",
      " 7   40 Yd Dash     453 non-null    float64\n",
      " 8   Vertical       424 non-null    float64\n",
      " 9   Bench          385 non-null    float64\n",
      " 10  Broad Jump     420 non-null    float64\n",
      " 11  3 Cone         299 non-null    float64\n",
      " 12  Shuttle        309 non-null    float64\n",
      " 13  Draft          318 non-null    object \n",
      "dtypes: float64(7), int64(1), object(6)\n",
      "memory usage: 55.5+ KB\n"
     ]
    }
   ],
   "source": [
    "df.info()"
   ]
  },
  {
   "cell_type": "markdown",
   "id": "d9321f07",
   "metadata": {},
   "source": [
    "Drop columns not useful for modeling"
   ]
  },
  {
   "cell_type": "code",
   "execution_count": 49,
   "id": "2165c521",
   "metadata": {},
   "outputs": [
    {
     "data": {
      "text/html": [
       "<div>\n",
       "<style scoped>\n",
       "    .dataframe tbody tr th:only-of-type {\n",
       "        vertical-align: middle;\n",
       "    }\n",
       "\n",
       "    .dataframe tbody tr th {\n",
       "        vertical-align: top;\n",
       "    }\n",
       "\n",
       "    .dataframe thead th {\n",
       "        text-align: right;\n",
       "    }\n",
       "</style>\n",
       "<table border=\"1\" class=\"dataframe\">\n",
       "  <thead>\n",
       "    <tr style=\"text-align: right;\">\n",
       "      <th></th>\n",
       "      <th>Position</th>\n",
       "      <th>Height</th>\n",
       "      <th>Weight</th>\n",
       "      <th>40 Yd Dash</th>\n",
       "      <th>Vertical</th>\n",
       "      <th>Bench</th>\n",
       "      <th>Broad Jump</th>\n",
       "      <th>3 Cone</th>\n",
       "      <th>Shuttle</th>\n",
       "    </tr>\n",
       "  </thead>\n",
       "  <tbody>\n",
       "    <tr>\n",
       "      <th>0</th>\n",
       "      <td>WR</td>\n",
       "      <td>6-0</td>\n",
       "      <td>198.0</td>\n",
       "      <td>4.42</td>\n",
       "      <td>NaN</td>\n",
       "      <td>12.0</td>\n",
       "      <td>NaN</td>\n",
       "      <td>NaN</td>\n",
       "      <td>NaN</td>\n",
       "    </tr>\n",
       "    <tr>\n",
       "      <th>1</th>\n",
       "      <td>WR</td>\n",
       "      <td>5-8</td>\n",
       "      <td>180.0</td>\n",
       "      <td>4.43</td>\n",
       "      <td>34.0</td>\n",
       "      <td>13.0</td>\n",
       "      <td>121.0</td>\n",
       "      <td>6.64</td>\n",
       "      <td>4.07</td>\n",
       "    </tr>\n",
       "    <tr>\n",
       "      <th>2</th>\n",
       "      <td>WR</td>\n",
       "      <td>6-1</td>\n",
       "      <td>187.0</td>\n",
       "      <td>4.54</td>\n",
       "      <td>NaN</td>\n",
       "      <td>13.0</td>\n",
       "      <td>NaN</td>\n",
       "      <td>NaN</td>\n",
       "      <td>NaN</td>\n",
       "    </tr>\n",
       "    <tr>\n",
       "      <th>3</th>\n",
       "      <td>WR</td>\n",
       "      <td>6-1</td>\n",
       "      <td>197.0</td>\n",
       "      <td>4.42</td>\n",
       "      <td>41.5</td>\n",
       "      <td>7.0</td>\n",
       "      <td>129.0</td>\n",
       "      <td>6.66</td>\n",
       "      <td>4.15</td>\n",
       "    </tr>\n",
       "    <tr>\n",
       "      <th>4</th>\n",
       "      <td>WR</td>\n",
       "      <td>6-0</td>\n",
       "      <td>205.0</td>\n",
       "      <td>4.54</td>\n",
       "      <td>37.0</td>\n",
       "      <td>17.0</td>\n",
       "      <td>120.0</td>\n",
       "      <td>7.04</td>\n",
       "      <td>4.11</td>\n",
       "    </tr>\n",
       "  </tbody>\n",
       "</table>\n",
       "</div>"
      ],
      "text/plain": [
       "  Position Height  Weight  40 Yd Dash  Vertical  Bench  Broad Jump  3 Cone  \\\n",
       "0       WR    6-0   198.0        4.42       NaN   12.0         NaN     NaN   \n",
       "1       WR    5-8   180.0        4.43      34.0   13.0       121.0    6.64   \n",
       "2       WR    6-1   187.0        4.54       NaN   13.0         NaN     NaN   \n",
       "3       WR    6-1   197.0        4.42      41.5    7.0       129.0    6.66   \n",
       "4       WR    6-0   205.0        4.54      37.0   17.0       120.0    7.04   \n",
       "\n",
       "   Shuttle  \n",
       "0      NaN  \n",
       "1     4.07  \n",
       "2      NaN  \n",
       "3     4.15  \n",
       "4     4.11  "
      ]
     },
     "execution_count": 49,
     "metadata": {},
     "output_type": "execute_result"
    }
   ],
   "source": [
    "df.drop(columns=['Draft', 'School', 'Player', 'College Stats', 'Year'], inplace=True)\n",
    "df.head()"
   ]
  },
  {
   "cell_type": "markdown",
   "id": "7560cee7",
   "metadata": {},
   "source": [
    "Change height units to inches and update to int data type"
   ]
  },
  {
   "cell_type": "code",
   "execution_count": 50,
   "id": "1c33294d",
   "metadata": {},
   "outputs": [
    {
     "data": {
      "text/html": [
       "<div>\n",
       "<style scoped>\n",
       "    .dataframe tbody tr th:only-of-type {\n",
       "        vertical-align: middle;\n",
       "    }\n",
       "\n",
       "    .dataframe tbody tr th {\n",
       "        vertical-align: top;\n",
       "    }\n",
       "\n",
       "    .dataframe thead th {\n",
       "        text-align: right;\n",
       "    }\n",
       "</style>\n",
       "<table border=\"1\" class=\"dataframe\">\n",
       "  <thead>\n",
       "    <tr style=\"text-align: right;\">\n",
       "      <th></th>\n",
       "      <th>Position</th>\n",
       "      <th>Height</th>\n",
       "      <th>Weight</th>\n",
       "      <th>40 Yd Dash</th>\n",
       "      <th>Vertical</th>\n",
       "      <th>Bench</th>\n",
       "      <th>Broad Jump</th>\n",
       "      <th>3 Cone</th>\n",
       "      <th>Shuttle</th>\n",
       "    </tr>\n",
       "  </thead>\n",
       "  <tbody>\n",
       "    <tr>\n",
       "      <th>0</th>\n",
       "      <td>WR</td>\n",
       "      <td>72</td>\n",
       "      <td>198.0</td>\n",
       "      <td>4.42</td>\n",
       "      <td>NaN</td>\n",
       "      <td>12.0</td>\n",
       "      <td>NaN</td>\n",
       "      <td>NaN</td>\n",
       "      <td>NaN</td>\n",
       "    </tr>\n",
       "    <tr>\n",
       "      <th>1</th>\n",
       "      <td>WR</td>\n",
       "      <td>68</td>\n",
       "      <td>180.0</td>\n",
       "      <td>4.43</td>\n",
       "      <td>34.0</td>\n",
       "      <td>13.0</td>\n",
       "      <td>121.0</td>\n",
       "      <td>6.64</td>\n",
       "      <td>4.07</td>\n",
       "    </tr>\n",
       "    <tr>\n",
       "      <th>2</th>\n",
       "      <td>WR</td>\n",
       "      <td>73</td>\n",
       "      <td>187.0</td>\n",
       "      <td>4.54</td>\n",
       "      <td>NaN</td>\n",
       "      <td>13.0</td>\n",
       "      <td>NaN</td>\n",
       "      <td>NaN</td>\n",
       "      <td>NaN</td>\n",
       "    </tr>\n",
       "    <tr>\n",
       "      <th>3</th>\n",
       "      <td>WR</td>\n",
       "      <td>73</td>\n",
       "      <td>197.0</td>\n",
       "      <td>4.42</td>\n",
       "      <td>41.5</td>\n",
       "      <td>7.0</td>\n",
       "      <td>129.0</td>\n",
       "      <td>6.66</td>\n",
       "      <td>4.15</td>\n",
       "    </tr>\n",
       "    <tr>\n",
       "      <th>4</th>\n",
       "      <td>WR</td>\n",
       "      <td>72</td>\n",
       "      <td>205.0</td>\n",
       "      <td>4.54</td>\n",
       "      <td>37.0</td>\n",
       "      <td>17.0</td>\n",
       "      <td>120.0</td>\n",
       "      <td>7.04</td>\n",
       "      <td>4.11</td>\n",
       "    </tr>\n",
       "  </tbody>\n",
       "</table>\n",
       "</div>"
      ],
      "text/plain": [
       "  Position  Height  Weight  40 Yd Dash  Vertical  Bench  Broad Jump  3 Cone  \\\n",
       "0       WR      72   198.0        4.42       NaN   12.0         NaN     NaN   \n",
       "1       WR      68   180.0        4.43      34.0   13.0       121.0    6.64   \n",
       "2       WR      73   187.0        4.54       NaN   13.0         NaN     NaN   \n",
       "3       WR      73   197.0        4.42      41.5    7.0       129.0    6.66   \n",
       "4       WR      72   205.0        4.54      37.0   17.0       120.0    7.04   \n",
       "\n",
       "   Shuttle  \n",
       "0      NaN  \n",
       "1     4.07  \n",
       "2      NaN  \n",
       "3     4.15  \n",
       "4     4.11  "
      ]
     },
     "execution_count": 50,
     "metadata": {},
     "output_type": "execute_result"
    }
   ],
   "source": [
    "def feet_to_inches(val):\n",
    "    return int(val.split('-')[0])*12 + int(val.split('-')[1])\n",
    "df['Height'] = df['Height'].apply(feet_to_inches)\n",
    "df.head()"
   ]
  },
  {
   "cell_type": "markdown",
   "id": "2cb0879d",
   "metadata": {},
   "source": [
    "Numerically code Position variable"
   ]
  },
  {
   "cell_type": "code",
   "execution_count": 51,
   "id": "51d35366",
   "metadata": {},
   "outputs": [
    {
     "data": {
      "text/html": [
       "<div>\n",
       "<style scoped>\n",
       "    .dataframe tbody tr th:only-of-type {\n",
       "        vertical-align: middle;\n",
       "    }\n",
       "\n",
       "    .dataframe tbody tr th {\n",
       "        vertical-align: top;\n",
       "    }\n",
       "\n",
       "    .dataframe thead th {\n",
       "        text-align: right;\n",
       "    }\n",
       "</style>\n",
       "<table border=\"1\" class=\"dataframe\">\n",
       "  <thead>\n",
       "    <tr style=\"text-align: right;\">\n",
       "      <th></th>\n",
       "      <th>Position</th>\n",
       "      <th>Height</th>\n",
       "      <th>Weight</th>\n",
       "      <th>40 Yd Dash</th>\n",
       "      <th>Vertical</th>\n",
       "      <th>Bench</th>\n",
       "      <th>Broad Jump</th>\n",
       "      <th>3 Cone</th>\n",
       "      <th>Shuttle</th>\n",
       "    </tr>\n",
       "  </thead>\n",
       "  <tbody>\n",
       "    <tr>\n",
       "      <th>0</th>\n",
       "      <td>1</td>\n",
       "      <td>72</td>\n",
       "      <td>198.0</td>\n",
       "      <td>4.42</td>\n",
       "      <td>NaN</td>\n",
       "      <td>12.0</td>\n",
       "      <td>NaN</td>\n",
       "      <td>NaN</td>\n",
       "      <td>NaN</td>\n",
       "    </tr>\n",
       "    <tr>\n",
       "      <th>1</th>\n",
       "      <td>1</td>\n",
       "      <td>68</td>\n",
       "      <td>180.0</td>\n",
       "      <td>4.43</td>\n",
       "      <td>34.0</td>\n",
       "      <td>13.0</td>\n",
       "      <td>121.0</td>\n",
       "      <td>6.64</td>\n",
       "      <td>4.07</td>\n",
       "    </tr>\n",
       "    <tr>\n",
       "      <th>2</th>\n",
       "      <td>1</td>\n",
       "      <td>73</td>\n",
       "      <td>187.0</td>\n",
       "      <td>4.54</td>\n",
       "      <td>NaN</td>\n",
       "      <td>13.0</td>\n",
       "      <td>NaN</td>\n",
       "      <td>NaN</td>\n",
       "      <td>NaN</td>\n",
       "    </tr>\n",
       "    <tr>\n",
       "      <th>3</th>\n",
       "      <td>1</td>\n",
       "      <td>73</td>\n",
       "      <td>197.0</td>\n",
       "      <td>4.42</td>\n",
       "      <td>41.5</td>\n",
       "      <td>7.0</td>\n",
       "      <td>129.0</td>\n",
       "      <td>6.66</td>\n",
       "      <td>4.15</td>\n",
       "    </tr>\n",
       "    <tr>\n",
       "      <th>4</th>\n",
       "      <td>1</td>\n",
       "      <td>72</td>\n",
       "      <td>205.0</td>\n",
       "      <td>4.54</td>\n",
       "      <td>37.0</td>\n",
       "      <td>17.0</td>\n",
       "      <td>120.0</td>\n",
       "      <td>7.04</td>\n",
       "      <td>4.11</td>\n",
       "    </tr>\n",
       "  </tbody>\n",
       "</table>\n",
       "</div>"
      ],
      "text/plain": [
       "   Position  Height  Weight  40 Yd Dash  Vertical  Bench  Broad Jump  3 Cone  \\\n",
       "0         1      72   198.0        4.42       NaN   12.0         NaN     NaN   \n",
       "1         1      68   180.0        4.43      34.0   13.0       121.0    6.64   \n",
       "2         1      73   187.0        4.54       NaN   13.0         NaN     NaN   \n",
       "3         1      73   197.0        4.42      41.5    7.0       129.0    6.66   \n",
       "4         1      72   205.0        4.54      37.0   17.0       120.0    7.04   \n",
       "\n",
       "   Shuttle  \n",
       "0      NaN  \n",
       "1     4.07  \n",
       "2      NaN  \n",
       "3     4.15  \n",
       "4     4.11  "
      ]
     },
     "execution_count": 51,
     "metadata": {},
     "output_type": "execute_result"
    }
   ],
   "source": [
    "df['Position'] = df['Position'].replace({'CB':0, 'WR':1})\n",
    "df.head()"
   ]
  },
  {
   "cell_type": "markdown",
   "id": "dc3798f0",
   "metadata": {},
   "source": [
    "Drop features missing more than one quarter of values"
   ]
  },
  {
   "cell_type": "code",
   "execution_count": 52,
   "id": "66f30b8b",
   "metadata": {},
   "outputs": [
    {
     "data": {
      "text/html": [
       "<div>\n",
       "<style scoped>\n",
       "    .dataframe tbody tr th:only-of-type {\n",
       "        vertical-align: middle;\n",
       "    }\n",
       "\n",
       "    .dataframe tbody tr th {\n",
       "        vertical-align: top;\n",
       "    }\n",
       "\n",
       "    .dataframe thead th {\n",
       "        text-align: right;\n",
       "    }\n",
       "</style>\n",
       "<table border=\"1\" class=\"dataframe\">\n",
       "  <thead>\n",
       "    <tr style=\"text-align: right;\">\n",
       "      <th></th>\n",
       "      <th>Position</th>\n",
       "      <th>Height</th>\n",
       "      <th>Weight</th>\n",
       "      <th>40 Yd Dash</th>\n",
       "      <th>Vertical</th>\n",
       "      <th>Bench</th>\n",
       "      <th>Broad Jump</th>\n",
       "    </tr>\n",
       "  </thead>\n",
       "  <tbody>\n",
       "    <tr>\n",
       "      <th>0</th>\n",
       "      <td>1</td>\n",
       "      <td>72</td>\n",
       "      <td>198.0</td>\n",
       "      <td>4.42</td>\n",
       "      <td>NaN</td>\n",
       "      <td>12.0</td>\n",
       "      <td>NaN</td>\n",
       "    </tr>\n",
       "    <tr>\n",
       "      <th>1</th>\n",
       "      <td>1</td>\n",
       "      <td>68</td>\n",
       "      <td>180.0</td>\n",
       "      <td>4.43</td>\n",
       "      <td>34.0</td>\n",
       "      <td>13.0</td>\n",
       "      <td>121.0</td>\n",
       "    </tr>\n",
       "    <tr>\n",
       "      <th>2</th>\n",
       "      <td>1</td>\n",
       "      <td>73</td>\n",
       "      <td>187.0</td>\n",
       "      <td>4.54</td>\n",
       "      <td>NaN</td>\n",
       "      <td>13.0</td>\n",
       "      <td>NaN</td>\n",
       "    </tr>\n",
       "    <tr>\n",
       "      <th>3</th>\n",
       "      <td>1</td>\n",
       "      <td>73</td>\n",
       "      <td>197.0</td>\n",
       "      <td>4.42</td>\n",
       "      <td>41.5</td>\n",
       "      <td>7.0</td>\n",
       "      <td>129.0</td>\n",
       "    </tr>\n",
       "    <tr>\n",
       "      <th>4</th>\n",
       "      <td>1</td>\n",
       "      <td>72</td>\n",
       "      <td>205.0</td>\n",
       "      <td>4.54</td>\n",
       "      <td>37.0</td>\n",
       "      <td>17.0</td>\n",
       "      <td>120.0</td>\n",
       "    </tr>\n",
       "  </tbody>\n",
       "</table>\n",
       "</div>"
      ],
      "text/plain": [
       "   Position  Height  Weight  40 Yd Dash  Vertical  Bench  Broad Jump\n",
       "0         1      72   198.0        4.42       NaN   12.0         NaN\n",
       "1         1      68   180.0        4.43      34.0   13.0       121.0\n",
       "2         1      73   187.0        4.54       NaN   13.0         NaN\n",
       "3         1      73   197.0        4.42      41.5    7.0       129.0\n",
       "4         1      72   205.0        4.54      37.0   17.0       120.0"
      ]
     },
     "execution_count": 52,
     "metadata": {},
     "output_type": "execute_result"
    }
   ],
   "source": [
    "df.drop(columns=['3 Cone', 'Shuttle'], inplace=True)\n",
    "df.head()"
   ]
  },
  {
   "cell_type": "markdown",
   "id": "40f8f251",
   "metadata": {},
   "source": [
    "Drop players missing 4 values"
   ]
  },
  {
   "cell_type": "code",
   "execution_count": 53,
   "id": "a58a3fd3",
   "metadata": {},
   "outputs": [
    {
     "name": "stdout",
     "output_type": "stream",
     "text": [
      "df shape: (487, 7)\n"
     ]
    },
    {
     "data": {
      "text/html": [
       "<div>\n",
       "<style scoped>\n",
       "    .dataframe tbody tr th:only-of-type {\n",
       "        vertical-align: middle;\n",
       "    }\n",
       "\n",
       "    .dataframe tbody tr th {\n",
       "        vertical-align: top;\n",
       "    }\n",
       "\n",
       "    .dataframe thead th {\n",
       "        text-align: right;\n",
       "    }\n",
       "</style>\n",
       "<table border=\"1\" class=\"dataframe\">\n",
       "  <thead>\n",
       "    <tr style=\"text-align: right;\">\n",
       "      <th></th>\n",
       "      <th>Position</th>\n",
       "      <th>Height</th>\n",
       "      <th>Weight</th>\n",
       "      <th>40 Yd Dash</th>\n",
       "      <th>Vertical</th>\n",
       "      <th>Bench</th>\n",
       "      <th>Broad Jump</th>\n",
       "    </tr>\n",
       "  </thead>\n",
       "  <tbody>\n",
       "    <tr>\n",
       "      <th>0</th>\n",
       "      <td>1</td>\n",
       "      <td>72</td>\n",
       "      <td>198.0</td>\n",
       "      <td>4.42</td>\n",
       "      <td>NaN</td>\n",
       "      <td>12.0</td>\n",
       "      <td>NaN</td>\n",
       "    </tr>\n",
       "    <tr>\n",
       "      <th>1</th>\n",
       "      <td>1</td>\n",
       "      <td>68</td>\n",
       "      <td>180.0</td>\n",
       "      <td>4.43</td>\n",
       "      <td>34.0</td>\n",
       "      <td>13.0</td>\n",
       "      <td>121.0</td>\n",
       "    </tr>\n",
       "    <tr>\n",
       "      <th>2</th>\n",
       "      <td>1</td>\n",
       "      <td>73</td>\n",
       "      <td>187.0</td>\n",
       "      <td>4.54</td>\n",
       "      <td>NaN</td>\n",
       "      <td>13.0</td>\n",
       "      <td>NaN</td>\n",
       "    </tr>\n",
       "    <tr>\n",
       "      <th>3</th>\n",
       "      <td>1</td>\n",
       "      <td>73</td>\n",
       "      <td>197.0</td>\n",
       "      <td>4.42</td>\n",
       "      <td>41.5</td>\n",
       "      <td>7.0</td>\n",
       "      <td>129.0</td>\n",
       "    </tr>\n",
       "    <tr>\n",
       "      <th>4</th>\n",
       "      <td>1</td>\n",
       "      <td>72</td>\n",
       "      <td>205.0</td>\n",
       "      <td>4.54</td>\n",
       "      <td>37.0</td>\n",
       "      <td>17.0</td>\n",
       "      <td>120.0</td>\n",
       "    </tr>\n",
       "  </tbody>\n",
       "</table>\n",
       "</div>"
      ],
      "text/plain": [
       "   Position  Height  Weight  40 Yd Dash  Vertical  Bench  Broad Jump\n",
       "0         1      72   198.0        4.42       NaN   12.0         NaN\n",
       "1         1      68   180.0        4.43      34.0   13.0       121.0\n",
       "2         1      73   187.0        4.54       NaN   13.0         NaN\n",
       "3         1      73   197.0        4.42      41.5    7.0       129.0\n",
       "4         1      72   205.0        4.54      37.0   17.0       120.0"
      ]
     },
     "execution_count": 53,
     "metadata": {},
     "output_type": "execute_result"
    }
   ],
   "source": [
    "df = df[df.isna().sum(axis=1)<4]\n",
    "print('df shape:', df.shape)\n",
    "df.head()"
   ]
  },
  {
   "cell_type": "markdown",
   "id": "99638673",
   "metadata": {},
   "source": [
    "Impute missing values"
   ]
  },
  {
   "cell_type": "code",
   "execution_count": 54,
   "id": "942ce80b",
   "metadata": {},
   "outputs": [
    {
     "data": {
      "text/html": [
       "<div>\n",
       "<style scoped>\n",
       "    .dataframe tbody tr th:only-of-type {\n",
       "        vertical-align: middle;\n",
       "    }\n",
       "\n",
       "    .dataframe tbody tr th {\n",
       "        vertical-align: top;\n",
       "    }\n",
       "\n",
       "    .dataframe thead th {\n",
       "        text-align: right;\n",
       "    }\n",
       "</style>\n",
       "<table border=\"1\" class=\"dataframe\">\n",
       "  <thead>\n",
       "    <tr style=\"text-align: right;\">\n",
       "      <th></th>\n",
       "      <th>Height</th>\n",
       "      <th>Weight</th>\n",
       "      <th>40 Yd Dash</th>\n",
       "      <th>Vertical</th>\n",
       "      <th>Bench</th>\n",
       "      <th>Broad Jump</th>\n",
       "      <th>Position</th>\n",
       "    </tr>\n",
       "  </thead>\n",
       "  <tbody>\n",
       "    <tr>\n",
       "      <th>0</th>\n",
       "      <td>72.0</td>\n",
       "      <td>198.0</td>\n",
       "      <td>4.42</td>\n",
       "      <td>37.9</td>\n",
       "      <td>12.0</td>\n",
       "      <td>125.6</td>\n",
       "      <td>1</td>\n",
       "    </tr>\n",
       "    <tr>\n",
       "      <th>1</th>\n",
       "      <td>68.0</td>\n",
       "      <td>180.0</td>\n",
       "      <td>4.43</td>\n",
       "      <td>34.0</td>\n",
       "      <td>13.0</td>\n",
       "      <td>121.0</td>\n",
       "      <td>1</td>\n",
       "    </tr>\n",
       "    <tr>\n",
       "      <th>2</th>\n",
       "      <td>73.0</td>\n",
       "      <td>187.0</td>\n",
       "      <td>4.54</td>\n",
       "      <td>37.5</td>\n",
       "      <td>13.0</td>\n",
       "      <td>126.6</td>\n",
       "      <td>1</td>\n",
       "    </tr>\n",
       "    <tr>\n",
       "      <th>3</th>\n",
       "      <td>73.0</td>\n",
       "      <td>197.0</td>\n",
       "      <td>4.42</td>\n",
       "      <td>41.5</td>\n",
       "      <td>7.0</td>\n",
       "      <td>129.0</td>\n",
       "      <td>1</td>\n",
       "    </tr>\n",
       "    <tr>\n",
       "      <th>4</th>\n",
       "      <td>72.0</td>\n",
       "      <td>205.0</td>\n",
       "      <td>4.54</td>\n",
       "      <td>37.0</td>\n",
       "      <td>17.0</td>\n",
       "      <td>120.0</td>\n",
       "      <td>1</td>\n",
       "    </tr>\n",
       "  </tbody>\n",
       "</table>\n",
       "</div>"
      ],
      "text/plain": [
       "   Height  Weight  40 Yd Dash  Vertical  Bench  Broad Jump  Position\n",
       "0    72.0   198.0        4.42      37.9   12.0       125.6         1\n",
       "1    68.0   180.0        4.43      34.0   13.0       121.0         1\n",
       "2    73.0   187.0        4.54      37.5   13.0       126.6         1\n",
       "3    73.0   197.0        4.42      41.5    7.0       129.0         1\n",
       "4    72.0   205.0        4.54      37.0   17.0       120.0         1"
      ]
     },
     "execution_count": 54,
     "metadata": {},
     "output_type": "execute_result"
    }
   ],
   "source": [
    "impute_x = df.drop(columns=['Position'])\n",
    "impute_y = df['Position']\n",
    "impute_x_train, impute_x_test, impute_y_train, impute_y_test = train_test_split(impute_x, impute_y, test_size=0.2,\n",
    "                                                                                random_state=73)\n",
    "impute_ss = StandardScaler()\n",
    "impute_ss.fit(impute_x_train)\n",
    "impute_x_train = pd.DataFrame(impute_ss.transform(impute_x_train), columns=impute_x_train.columns, \n",
    "                              index=impute_x_train.index)\n",
    "impute_x_test = pd.DataFrame(impute_ss.transform(impute_x_test), columns=impute_x_test.columns, \n",
    "                             index=impute_x_test.index)\n",
    "\n",
    "imputer = KNNImputer()\n",
    "imputer.fit(impute_x_train)\n",
    "impute_x_train = pd.DataFrame(imputer.transform(impute_x_train), columns=impute_x_train.columns, \n",
    "                              index=impute_x_train.index)\n",
    "impute_x_test = pd.DataFrame(imputer.transform(impute_x_test), columns=impute_x_test.columns, \n",
    "                             index=impute_x_test.index)\n",
    "\n",
    "impute_x_train = pd.DataFrame(impute_ss.inverse_transform(impute_x_train), columns=impute_x_train.columns, \n",
    "                              index=impute_x_train.index)\n",
    "impute_x_test = pd.DataFrame(impute_ss.inverse_transform(impute_x_test), columns=impute_x_test.columns, \n",
    "                             index=impute_x_test.index)\n",
    "\n",
    "df = pd.concat([impute_x_train, impute_x_test])\n",
    "df.sort_index(inplace=True)\n",
    "df['Position'] = impute_y\n",
    "df.head()"
   ]
  },
  {
   "cell_type": "markdown",
   "id": "8c9468cb",
   "metadata": {},
   "source": [
    "Confirm data now scrubbed with df.info()"
   ]
  },
  {
   "cell_type": "code",
   "execution_count": 55,
   "id": "a71f1c65",
   "metadata": {},
   "outputs": [
    {
     "name": "stdout",
     "output_type": "stream",
     "text": [
      "<class 'pandas.core.frame.DataFrame'>\n",
      "Int64Index: 487 entries, 0 to 505\n",
      "Data columns (total 7 columns):\n",
      " #   Column      Non-Null Count  Dtype  \n",
      "---  ------      --------------  -----  \n",
      " 0   Height      487 non-null    float64\n",
      " 1   Weight      487 non-null    float64\n",
      " 2   40 Yd Dash  487 non-null    float64\n",
      " 3   Vertical    487 non-null    float64\n",
      " 4   Bench       487 non-null    float64\n",
      " 5   Broad Jump  487 non-null    float64\n",
      " 6   Position    487 non-null    int64  \n",
      "dtypes: float64(6), int64(1)\n",
      "memory usage: 30.4 KB\n"
     ]
    }
   ],
   "source": [
    "df.info()"
   ]
  },
  {
   "cell_type": "markdown",
   "id": "e3084e22",
   "metadata": {},
   "source": [
    "# Explore Data"
   ]
  },
  {
   "cell_type": "markdown",
   "id": "cb2d58bf",
   "metadata": {},
   "source": [
    "Find training set outlier datapoints"
   ]
  },
  {
   "cell_type": "code",
   "execution_count": 12,
   "id": "48a539a8",
   "metadata": {},
   "outputs": [
    {
     "data": {
      "text/html": [
       "<div>\n",
       "<style scoped>\n",
       "    .dataframe tbody tr th:only-of-type {\n",
       "        vertical-align: middle;\n",
       "    }\n",
       "\n",
       "    .dataframe tbody tr th {\n",
       "        vertical-align: top;\n",
       "    }\n",
       "\n",
       "    .dataframe thead th {\n",
       "        text-align: right;\n",
       "    }\n",
       "</style>\n",
       "<table border=\"1\" class=\"dataframe\">\n",
       "  <thead>\n",
       "    <tr style=\"text-align: right;\">\n",
       "      <th></th>\n",
       "      <th>Height</th>\n",
       "      <th>Weight</th>\n",
       "      <th>40 Yd Dash</th>\n",
       "      <th>Vertical</th>\n",
       "      <th>Bench</th>\n",
       "      <th>Broad Jump</th>\n",
       "      <th>Outlier</th>\n",
       "    </tr>\n",
       "  </thead>\n",
       "  <tbody>\n",
       "    <tr>\n",
       "      <th>38</th>\n",
       "      <td>0.27</td>\n",
       "      <td>-0.05</td>\n",
       "      <td>-0.88</td>\n",
       "      <td>3.13</td>\n",
       "      <td>-0.27</td>\n",
       "      <td>4.44</td>\n",
       "      <td>-1</td>\n",
       "    </tr>\n",
       "    <tr>\n",
       "      <th>154</th>\n",
       "      <td>0.76</td>\n",
       "      <td>2.28</td>\n",
       "      <td>2.35</td>\n",
       "      <td>-1.99</td>\n",
       "      <td>0.00</td>\n",
       "      <td>-0.34</td>\n",
       "      <td>-1</td>\n",
       "    </tr>\n",
       "    <tr>\n",
       "      <th>209</th>\n",
       "      <td>-0.23</td>\n",
       "      <td>-0.75</td>\n",
       "      <td>2.58</td>\n",
       "      <td>-1.99</td>\n",
       "      <td>-1.10</td>\n",
       "      <td>-1.99</td>\n",
       "      <td>-1</td>\n",
       "    </tr>\n",
       "    <tr>\n",
       "      <th>368</th>\n",
       "      <td>0.76</td>\n",
       "      <td>2.20</td>\n",
       "      <td>0.24</td>\n",
       "      <td>1.01</td>\n",
       "      <td>3.58</td>\n",
       "      <td>-0.16</td>\n",
       "      <td>-1</td>\n",
       "    </tr>\n",
       "    <tr>\n",
       "      <th>338</th>\n",
       "      <td>1.74</td>\n",
       "      <td>1.58</td>\n",
       "      <td>-0.99</td>\n",
       "      <td>2.77</td>\n",
       "      <td>-0.55</td>\n",
       "      <td>3.15</td>\n",
       "      <td>-1</td>\n",
       "    </tr>\n",
       "    <tr>\n",
       "      <th>11</th>\n",
       "      <td>0.76</td>\n",
       "      <td>1.03</td>\n",
       "      <td>-1.77</td>\n",
       "      <td>3.30</td>\n",
       "      <td>1.10</td>\n",
       "      <td>2.97</td>\n",
       "      <td>-1</td>\n",
       "    </tr>\n",
       "    <tr>\n",
       "      <th>70</th>\n",
       "      <td>2.73</td>\n",
       "      <td>2.98</td>\n",
       "      <td>-0.54</td>\n",
       "      <td>0.48</td>\n",
       "      <td>-0.55</td>\n",
       "      <td>0.40</td>\n",
       "      <td>-1</td>\n",
       "    </tr>\n",
       "    <tr>\n",
       "      <th>317</th>\n",
       "      <td>2.24</td>\n",
       "      <td>2.20</td>\n",
       "      <td>1.91</td>\n",
       "      <td>-1.64</td>\n",
       "      <td>0.55</td>\n",
       "      <td>-1.99</td>\n",
       "      <td>-1</td>\n",
       "    </tr>\n",
       "  </tbody>\n",
       "</table>\n",
       "</div>"
      ],
      "text/plain": [
       "     Height  Weight  40 Yd Dash  Vertical  Bench  Broad Jump  Outlier\n",
       "38     0.27   -0.05       -0.88      3.13  -0.27        4.44       -1\n",
       "154    0.76    2.28        2.35     -1.99   0.00       -0.34       -1\n",
       "209   -0.23   -0.75        2.58     -1.99  -1.10       -1.99       -1\n",
       "368    0.76    2.20        0.24      1.01   3.58       -0.16       -1\n",
       "338    1.74    1.58       -0.99      2.77  -0.55        3.15       -1\n",
       "11     0.76    1.03       -1.77      3.30   1.10        2.97       -1\n",
       "70     2.73    2.98       -0.54      0.48  -0.55        0.40       -1\n",
       "317    2.24    2.20        1.91     -1.64   0.55       -1.99       -1"
      ]
     },
     "execution_count": 12,
     "metadata": {},
     "output_type": "execute_result"
    }
   ],
   "source": [
    "outlier_x = df.drop(columns='Position')\n",
    "outlier_y = df['Position']\n",
    "outlier_x_train, outlier_x_test, outlier_y_train, outlier_y_test = train_test_split(outlier_x, outlier_y, \n",
    "                                                                                    test_size=0.2, random_state=73)\n",
    "\n",
    "outlier_ss = StandardScaler()\n",
    "outlier_ss.fit(outlier_x_train)\n",
    "outlier_x_train = pd.DataFrame(outlier_ss.transform(outlier_x_train), columns=outlier_x_train.columns, \n",
    "                              index=outlier_x_train.index)\n",
    "outlier_x_test = pd.DataFrame(outlier_ss.transform(outlier_x_test), columns=outlier_x_test.columns, \n",
    "                             index=outlier_x_test.index)\n",
    "\n",
    "isf = IsolationForest(contamination=.02)\n",
    "isf.fit(outlier_x_train)\n",
    "outlier_x_train['Outlier'] = isf.predict(outlier_x_train)\n",
    "outlier_x_train[outlier_x_train['Outlier']==-1].round(2)"
   ]
  },
  {
   "cell_type": "markdown",
   "id": "49022603",
   "metadata": {},
   "source": [
    "Replace all datapoints greater than 3 training standard deviations from the training mean with 3 standard deviation value"
   ]
  },
  {
   "cell_type": "code",
   "execution_count": 13,
   "id": "a35e45c1",
   "metadata": {},
   "outputs": [
    {
     "data": {
      "text/html": [
       "<div>\n",
       "<style scoped>\n",
       "    .dataframe tbody tr th:only-of-type {\n",
       "        vertical-align: middle;\n",
       "    }\n",
       "\n",
       "    .dataframe tbody tr th {\n",
       "        vertical-align: top;\n",
       "    }\n",
       "\n",
       "    .dataframe thead th {\n",
       "        text-align: right;\n",
       "    }\n",
       "</style>\n",
       "<table border=\"1\" class=\"dataframe\">\n",
       "  <thead>\n",
       "    <tr style=\"text-align: right;\">\n",
       "      <th></th>\n",
       "      <th>Height</th>\n",
       "      <th>Weight</th>\n",
       "      <th>40 Yd Dash</th>\n",
       "      <th>Vertical</th>\n",
       "      <th>Bench</th>\n",
       "      <th>Broad Jump</th>\n",
       "      <th>Position</th>\n",
       "    </tr>\n",
       "  </thead>\n",
       "  <tbody>\n",
       "    <tr>\n",
       "      <th>0</th>\n",
       "      <td>72.0</td>\n",
       "      <td>198.0</td>\n",
       "      <td>4.42</td>\n",
       "      <td>37.9</td>\n",
       "      <td>12.0</td>\n",
       "      <td>125.6</td>\n",
       "      <td>1</td>\n",
       "    </tr>\n",
       "    <tr>\n",
       "      <th>1</th>\n",
       "      <td>68.0</td>\n",
       "      <td>180.0</td>\n",
       "      <td>4.43</td>\n",
       "      <td>34.0</td>\n",
       "      <td>13.0</td>\n",
       "      <td>121.0</td>\n",
       "      <td>1</td>\n",
       "    </tr>\n",
       "    <tr>\n",
       "      <th>2</th>\n",
       "      <td>73.0</td>\n",
       "      <td>187.0</td>\n",
       "      <td>4.54</td>\n",
       "      <td>37.5</td>\n",
       "      <td>13.0</td>\n",
       "      <td>126.6</td>\n",
       "      <td>1</td>\n",
       "    </tr>\n",
       "    <tr>\n",
       "      <th>3</th>\n",
       "      <td>73.0</td>\n",
       "      <td>197.0</td>\n",
       "      <td>4.42</td>\n",
       "      <td>41.5</td>\n",
       "      <td>7.0</td>\n",
       "      <td>129.0</td>\n",
       "      <td>1</td>\n",
       "    </tr>\n",
       "    <tr>\n",
       "      <th>4</th>\n",
       "      <td>72.0</td>\n",
       "      <td>205.0</td>\n",
       "      <td>4.54</td>\n",
       "      <td>37.0</td>\n",
       "      <td>17.0</td>\n",
       "      <td>120.0</td>\n",
       "      <td>1</td>\n",
       "    </tr>\n",
       "  </tbody>\n",
       "</table>\n",
       "</div>"
      ],
      "text/plain": [
       "   Height  Weight  40 Yd Dash  Vertical  Bench  Broad Jump  Position\n",
       "0    72.0   198.0        4.42      37.9   12.0       125.6         1\n",
       "1    68.0   180.0        4.43      34.0   13.0       121.0         1\n",
       "2    73.0   187.0        4.54      37.5   13.0       126.6         1\n",
       "3    73.0   197.0        4.42      41.5    7.0       129.0         1\n",
       "4    72.0   205.0        4.54      37.0   17.0       120.0         1"
      ]
     },
     "execution_count": 13,
     "metadata": {},
     "output_type": "execute_result"
    }
   ],
   "source": [
    "replace_x = df.drop(columns='Position')\n",
    "replace_y = df['Position']\n",
    "replace_x_train, replace_x_test, replace_y_train, replace_y_test = train_test_split(replace_x, replace_y, \n",
    "                                                                                    test_size=0.2, random_state=73)\n",
    "\n",
    "replace_ss = StandardScaler()\n",
    "replace_ss.fit(replace_x_train)\n",
    "replace_x_train = pd.DataFrame(replace_ss.transform(replace_x_train), columns=replace_x_train.columns, \n",
    "                              index=replace_x_train.index)\n",
    "replace_x_test = pd.DataFrame(replace_ss.transform(replace_x_test), columns=replace_x_test.columns, \n",
    "                             index=replace_x_test.index)\n",
    "\n",
    "def replace_outliers(row):\n",
    "    output = []\n",
    "    for val in row.values:\n",
    "        if val > 3:\n",
    "            output.append(3)\n",
    "        elif val < -3:\n",
    "            output.append(-3)\n",
    "        else:\n",
    "            output.append(val)\n",
    "    return output\n",
    "\n",
    "replace_x_train = pd.DataFrame(replace_x_train.apply(replace_outliers, axis=0), index=replace_x_train.index, \n",
    "                               columns=replace_x_train.columns)\n",
    "replace_x_train = pd.DataFrame(replace_ss.inverse_transform(replace_x_train), index=replace_x_train.index, \n",
    "                               columns=replace_x_train.columns)\n",
    "replace_x_train['Position'] = replace_y_train\n",
    "\n",
    "\n",
    "replace_x_test = pd.DataFrame(replace_x_test.apply(replace_outliers, axis=0), index=replace_x_test.index, \n",
    "                               columns=replace_x_test.columns)\n",
    "replace_x_test = pd.DataFrame(replace_ss.inverse_transform(replace_x_test), index=replace_x_test.index, \n",
    "                               columns=replace_x_test.columns)\n",
    "replace_x_test['Position'] = replace_y_test\n",
    "\n",
    "df = pd.concat([replace_x_train, replace_x_test])\n",
    "df.sort_index(inplace=True)\n",
    "df.head()"
   ]
  },
  {
   "cell_type": "markdown",
   "id": "87f0fcd8",
   "metadata": {},
   "source": [
    "Calculate descriptive statistics for each variable"
   ]
  },
  {
   "cell_type": "code",
   "execution_count": 14,
   "id": "2bb85d87",
   "metadata": {},
   "outputs": [
    {
     "data": {
      "text/html": [
       "<div>\n",
       "<style scoped>\n",
       "    .dataframe tbody tr th:only-of-type {\n",
       "        vertical-align: middle;\n",
       "    }\n",
       "\n",
       "    .dataframe tbody tr th {\n",
       "        vertical-align: top;\n",
       "    }\n",
       "\n",
       "    .dataframe thead th {\n",
       "        text-align: right;\n",
       "    }\n",
       "</style>\n",
       "<table border=\"1\" class=\"dataframe\">\n",
       "  <thead>\n",
       "    <tr style=\"text-align: right;\">\n",
       "      <th></th>\n",
       "      <th>Height</th>\n",
       "      <th>Weight</th>\n",
       "      <th>40 Yd Dash</th>\n",
       "      <th>Vertical</th>\n",
       "      <th>Bench</th>\n",
       "      <th>Broad Jump</th>\n",
       "      <th>Position</th>\n",
       "    </tr>\n",
       "  </thead>\n",
       "  <tbody>\n",
       "    <tr>\n",
       "      <th>count</th>\n",
       "      <td>487.00</td>\n",
       "      <td>487.00</td>\n",
       "      <td>487.00</td>\n",
       "      <td>487.00</td>\n",
       "      <td>487.00</td>\n",
       "      <td>487.00</td>\n",
       "      <td>487.00</td>\n",
       "    </tr>\n",
       "    <tr>\n",
       "      <th>mean</th>\n",
       "      <td>72.40</td>\n",
       "      <td>199.52</td>\n",
       "      <td>4.51</td>\n",
       "      <td>35.52</td>\n",
       "      <td>14.05</td>\n",
       "      <td>122.56</td>\n",
       "      <td>0.57</td>\n",
       "    </tr>\n",
       "    <tr>\n",
       "      <th>std</th>\n",
       "      <td>2.07</td>\n",
       "      <td>13.07</td>\n",
       "      <td>0.09</td>\n",
       "      <td>2.89</td>\n",
       "      <td>3.59</td>\n",
       "      <td>5.46</td>\n",
       "      <td>0.50</td>\n",
       "    </tr>\n",
       "    <tr>\n",
       "      <th>min</th>\n",
       "      <td>67.00</td>\n",
       "      <td>161.04</td>\n",
       "      <td>4.24</td>\n",
       "      <td>27.14</td>\n",
       "      <td>4.00</td>\n",
       "      <td>108.00</td>\n",
       "      <td>0.00</td>\n",
       "    </tr>\n",
       "    <tr>\n",
       "      <th>25%</th>\n",
       "      <td>71.00</td>\n",
       "      <td>190.00</td>\n",
       "      <td>4.45</td>\n",
       "      <td>33.50</td>\n",
       "      <td>12.00</td>\n",
       "      <td>119.00</td>\n",
       "      <td>0.00</td>\n",
       "    </tr>\n",
       "    <tr>\n",
       "      <th>50%</th>\n",
       "      <td>72.00</td>\n",
       "      <td>198.00</td>\n",
       "      <td>4.51</td>\n",
       "      <td>35.50</td>\n",
       "      <td>14.00</td>\n",
       "      <td>122.00</td>\n",
       "      <td>1.00</td>\n",
       "    </tr>\n",
       "    <tr>\n",
       "      <th>75%</th>\n",
       "      <td>74.00</td>\n",
       "      <td>208.00</td>\n",
       "      <td>4.57</td>\n",
       "      <td>37.00</td>\n",
       "      <td>16.20</td>\n",
       "      <td>125.00</td>\n",
       "      <td>1.00</td>\n",
       "    </tr>\n",
       "    <tr>\n",
       "      <th>max</th>\n",
       "      <td>78.00</td>\n",
       "      <td>238.31</td>\n",
       "      <td>4.78</td>\n",
       "      <td>44.14</td>\n",
       "      <td>24.91</td>\n",
       "      <td>139.17</td>\n",
       "      <td>1.00</td>\n",
       "    </tr>\n",
       "  </tbody>\n",
       "</table>\n",
       "</div>"
      ],
      "text/plain": [
       "       Height  Weight  40 Yd Dash  Vertical   Bench  Broad Jump  Position\n",
       "count  487.00  487.00      487.00    487.00  487.00      487.00    487.00\n",
       "mean    72.40  199.52        4.51     35.52   14.05      122.56      0.57\n",
       "std      2.07   13.07        0.09      2.89    3.59        5.46      0.50\n",
       "min     67.00  161.04        4.24     27.14    4.00      108.00      0.00\n",
       "25%     71.00  190.00        4.45     33.50   12.00      119.00      0.00\n",
       "50%     72.00  198.00        4.51     35.50   14.00      122.00      1.00\n",
       "75%     74.00  208.00        4.57     37.00   16.20      125.00      1.00\n",
       "max     78.00  238.31        4.78     44.14   24.91      139.17      1.00"
      ]
     },
     "execution_count": 14,
     "metadata": {},
     "output_type": "execute_result"
    }
   ],
   "source": [
    "df.describe().round(2)"
   ]
  },
  {
   "cell_type": "markdown",
   "id": "5ecc0e7d",
   "metadata": {},
   "source": [
    "Plot Position class distribution"
   ]
  },
  {
   "cell_type": "code",
   "execution_count": 15,
   "id": "334cb2f3",
   "metadata": {},
   "outputs": [
    {
     "data": {
      "text/plain": [
       "Text(0, 0.5, 'Count')"
      ]
     },
     "execution_count": 15,
     "metadata": {},
     "output_type": "execute_result"
    },
    {
     "data": {
      "image/png": "[encoded data removed]",
      "text/plain": [
       "<Figure size 432x288 with 1 Axes>"
      ]
     },
     "metadata": {
      "needs_background": "light"
     },
     "output_type": "display_data"
    }
   ],
   "source": [
    "fig, ax = plt.subplots()\n",
    "sns.countplot(x='Position',data=df)\n",
    "ax.set_title('NFL Draft Combine Position Class Distribution')\n",
    "ax.set_xticklabels(['CB', 'WR'])\n",
    "ax.set_ylabel('Count')"
   ]
  },
  {
   "cell_type": "markdown",
   "id": "36988618",
   "metadata": {},
   "source": [
    "Plot distribution for each feature in NFL Draft Combine dataset"
   ]
  },
  {
   "cell_type": "code",
   "execution_count": 16,
   "id": "d6a15f80",
   "metadata": {},
   "outputs": [
    {
     "name": "stderr",
     "output_type": "stream",
     "text": [
      "/Library/Frameworks/Python.framework/Versions/3.9/lib/python3.9/site-packages/seaborn/distributions.py:2557: FutureWarning: `distplot` is a deprecated function and will be removed in a future version. Please adapt your code to use either `displot` (a figure-level function with similar flexibility) or `histplot` (an axes-level function for histograms).\n",
      "  warnings.warn(msg, FutureWarning)\n",
      "/Library/Frameworks/Python.framework/Versions/3.9/lib/python3.9/site-packages/seaborn/distributions.py:2557: FutureWarning: `distplot` is a deprecated function and will be removed in a future version. Please adapt your code to use either `displot` (a figure-level function with similar flexibility) or `histplot` (an axes-level function for histograms).\n",
      "  warnings.warn(msg, FutureWarning)\n",
      "/Library/Frameworks/Python.framework/Versions/3.9/lib/python3.9/site-packages/seaborn/distributions.py:2557: FutureWarning: `distplot` is a deprecated function and will be removed in a future version. Please adapt your code to use either `displot` (a figure-level function with similar flexibility) or `histplot` (an axes-level function for histograms).\n",
      "  warnings.warn(msg, FutureWarning)\n",
      "/Library/Frameworks/Python.framework/Versions/3.9/lib/python3.9/site-packages/seaborn/distributions.py:2557: FutureWarning: `distplot` is a deprecated function and will be removed in a future version. Please adapt your code to use either `displot` (a figure-level function with similar flexibility) or `histplot` (an axes-level function for histograms).\n",
      "  warnings.warn(msg, FutureWarning)\n",
      "/Library/Frameworks/Python.framework/Versions/3.9/lib/python3.9/site-packages/seaborn/distributions.py:2557: FutureWarning: `distplot` is a deprecated function and will be removed in a future version. Please adapt your code to use either `displot` (a figure-level function with similar flexibility) or `histplot` (an axes-level function for histograms).\n",
      "  warnings.warn(msg, FutureWarning)\n",
      "/Library/Frameworks/Python.framework/Versions/3.9/lib/python3.9/site-packages/seaborn/distributions.py:2557: FutureWarning: `distplot` is a deprecated function and will be removed in a future version. Please adapt your code to use either `displot` (a figure-level function with similar flexibility) or `histplot` (an axes-level function for histograms).\n",
      "  warnings.warn(msg, FutureWarning)\n",
      "/Library/Frameworks/Python.framework/Versions/3.9/lib/python3.9/site-packages/seaborn/distributions.py:2557: FutureWarning: `distplot` is a deprecated function and will be removed in a future version. Please adapt your code to use either `displot` (a figure-level function with similar flexibility) or `histplot` (an axes-level function for histograms).\n",
      "  warnings.warn(msg, FutureWarning)\n"
     ]
    },
    {
     "data": {
      "image/png": "[encoded data removed]",
      "text/plain": [
       "<Figure size 432x288 with 1 Axes>"
      ]
     },
     "metadata": {
      "needs_background": "light"
     },
     "output_type": "display_data"
    },
    {
     "data": {
      "image/png": "[encoded data removed]",
      "text/plain": [
       "<Figure size 432x288 with 1 Axes>"
      ]
     },
     "metadata": {
      "needs_background": "light"
     },
     "output_type": "display_data"
    },
    {
     "data": {
      "image/png": "[encoded data removed]",
      "text/plain": [
       "<Figure size 432x288 with 1 Axes>"
      ]
     },
     "metadata": {
      "needs_background": "light"
     },
     "output_type": "display_data"
    },
    {
     "data": {
      "image/png": "[encoded data removed]",
      "text/plain": [
       "<Figure size 432x288 with 1 Axes>"
      ]
     },
     "metadata": {
      "needs_background": "light"
     },
     "output_type": "display_data"
    },
    {
     "data": {
      "image/png": "[encoded data removed]",
      "text/plain": [
       "<Figure size 432x288 with 1 Axes>"
      ]
     },
     "metadata": {
      "needs_background": "light"
     },
     "output_type": "display_data"
    },
    {
     "data": {
      "image/png": "[encoded data removed]",
      "text/plain": [
       "<Figure size 432x288 with 1 Axes>"
      ]
     },
     "metadata": {
      "needs_background": "light"
     },
     "output_type": "display_data"
    },
    {
     "data": {
      "image/png": "[encoded data removed]",
      "text/plain": [
       "<Figure size 432x288 with 1 Axes>"
      ]
     },
     "metadata": {
      "needs_background": "light"
     },
     "output_type": "display_data"
    }
   ],
   "source": [
    "for feature in df.columns:\n",
    "    fig1, ax1 = plt.subplots()\n",
    "    sns.distplot(df[feature], kde=True, bins=25, ax=ax1)\n",
    "    ax1.set_title(f'NFL Draft Combine {feature} Distribution')"
   ]
  },
  {
   "cell_type": "markdown",
   "id": "69adb99b",
   "metadata": {},
   "source": [
    "Calculate vif for each feature to find correlated features"
   ]
  },
  {
   "cell_type": "code",
   "execution_count": 17,
   "id": "a698dc72",
   "metadata": {},
   "outputs": [
    {
     "data": {
      "text/html": [
       "<div>\n",
       "<style scoped>\n",
       "    .dataframe tbody tr th:only-of-type {\n",
       "        vertical-align: middle;\n",
       "    }\n",
       "\n",
       "    .dataframe tbody tr th {\n",
       "        vertical-align: top;\n",
       "    }\n",
       "\n",
       "    .dataframe thead th {\n",
       "        text-align: right;\n",
       "    }\n",
       "</style>\n",
       "<table border=\"1\" class=\"dataframe\">\n",
       "  <thead>\n",
       "    <tr style=\"text-align: right;\">\n",
       "      <th></th>\n",
       "      <th>Column</th>\n",
       "      <th>VIF</th>\n",
       "    </tr>\n",
       "  </thead>\n",
       "  <tbody>\n",
       "    <tr>\n",
       "      <th>0</th>\n",
       "      <td>const</td>\n",
       "      <td>5601.0</td>\n",
       "    </tr>\n",
       "    <tr>\n",
       "      <th>1</th>\n",
       "      <td>Weight</td>\n",
       "      <td>2.2</td>\n",
       "    </tr>\n",
       "    <tr>\n",
       "      <th>2</th>\n",
       "      <td>Height</td>\n",
       "      <td>2.0</td>\n",
       "    </tr>\n",
       "    <tr>\n",
       "      <th>3</th>\n",
       "      <td>Broad Jump</td>\n",
       "      <td>1.9</td>\n",
       "    </tr>\n",
       "    <tr>\n",
       "      <th>4</th>\n",
       "      <td>Vertical</td>\n",
       "      <td>1.8</td>\n",
       "    </tr>\n",
       "    <tr>\n",
       "      <th>5</th>\n",
       "      <td>40 Yd Dash</td>\n",
       "      <td>1.3</td>\n",
       "    </tr>\n",
       "    <tr>\n",
       "      <th>6</th>\n",
       "      <td>Bench</td>\n",
       "      <td>1.3</td>\n",
       "    </tr>\n",
       "  </tbody>\n",
       "</table>\n",
       "</div>"
      ],
      "text/plain": [
       "       Column     VIF\n",
       "0       const  5601.0\n",
       "1      Weight     2.2\n",
       "2      Height     2.0\n",
       "3  Broad Jump     1.9\n",
       "4    Vertical     1.8\n",
       "5  40 Yd Dash     1.3\n",
       "6       Bench     1.3"
      ]
     },
     "execution_count": 17,
     "metadata": {},
     "output_type": "execute_result"
    }
   ],
   "source": [
    "vif_x = df.drop(columns=['Position'])\n",
    "vif_y = df['Position']\n",
    "vif_x_train, vif_x_test, vif_y_train, vif_y_test = train_test_split(vif_x, vif_y, test_size=0.2, random_state=73)\n",
    "vif_df = add_constant(vif_x_train)\n",
    "\n",
    "\n",
    "vif_output = []\n",
    "for num in range(0, len(vif_df.columns)):\n",
    "    vif_output.append([vif_df.columns[num], variance_inflation_factor(vif_df.values, num)])\n",
    "vif_output_df = pd.DataFrame(vif_output, columns=['Column', 'VIF'])\n",
    "vif_output_df.sort_values(by='VIF', ascending=False, inplace=True)\n",
    "vif_output_df.round(decimals=1).reset_index(drop=True)"
   ]
  },
  {
   "cell_type": "markdown",
   "id": "e59a5a59",
   "metadata": {},
   "source": [
    "Run t test for each feature to determine if there is a statistically significant difference between classes"
   ]
  },
  {
   "cell_type": "code",
   "execution_count": 18,
   "id": "6811b763",
   "metadata": {},
   "outputs": [
    {
     "name": "stdout",
     "output_type": "stream",
     "text": [
      "Height: \n",
      "CB Mean:  71.70952380952382\n",
      "WR Mean:  72.92057761732852\n",
      "Difference -1.66%\n",
      "Ttest_indResult(statistic=-6.391944733500643, pvalue=4.716423490988421e-10)\n",
      "\n",
      "Weight: \n",
      "CB Mean:  193.8095238095238\n",
      "WR Mean:  203.84616450193056\n",
      "Difference -4.92%\n",
      "Ttest_indResult(statistic=-8.582956399948694, pvalue=2.274167064065655e-16)\n",
      "\n",
      "40 Yd Dash: \n",
      "CB Mean:  4.499409523809524\n",
      "WR Mean:  4.517962970042093\n",
      "Difference -0.41000000000000003%\n",
      "Ttest_indResult(statistic=-1.2789179260820758, pvalue=0.2016923068626863)\n",
      "\n",
      "Vertical: \n",
      "CB Mean:  35.86304617195978\n",
      "WR Mean:  35.26304511243307\n",
      "Difference 1.7000000000000002%\n",
      "Ttest_indResult(statistic=1.2658072381830006, pvalue=0.20634358813320944)\n",
      "\n",
      "Bench: \n",
      "CB Mean:  14.0262230528629\n",
      "WR Mean:  14.07369560361884\n",
      "Difference -0.33999999999999997%\n",
      "Ttest_indResult(statistic=-0.7141616013294558, pvalue=0.4755577677579891)\n",
      "\n",
      "Broad Jump: \n",
      "CB Mean:  123.3741245631045\n",
      "WR Mean:  121.95138020398518\n",
      "Difference 1.17%\n",
      "Ttest_indResult(statistic=2.235935987207626, pvalue=0.025925416895119322)\n",
      "\n"
     ]
    }
   ],
   "source": [
    "ttest_x = df.drop(columns=['Position'])\n",
    "ttest_y = df[['Position']]\n",
    "ttest_x_train, ttest_x_test, ttest_y_train, ttest_y_test = train_test_split(ttest_x, ttest_y, test_size=0.2,\n",
    "                                                                                random_state=73)\n",
    "ttest = pd.concat([ttest_x_train, ttest_y_train], axis=1)\n",
    "\n",
    "for feat in ttest_x.columns:\n",
    "    print(f'{feat}: ')\n",
    "    print('CB Mean: ', df[df['Position']==0][feat].mean())\n",
    "    print('WR Mean: ', df[df['Position']==1][feat].mean())\n",
    "    print('Difference', str(round(df[df['Position']==0][feat].mean()/df[df['Position']==1][feat].mean()-1, 4)*100)+'%')\n",
    "    print(ttest_ind(ttest[ttest['Position']==0][feat].values, ttest[ttest['Position']==1][feat].values))\n",
    "    print('')"
   ]
  },
  {
   "cell_type": "code",
   "execution_count": 19,
   "id": "ae69b58a",
   "metadata": {},
   "outputs": [
    {
     "name": "stdout",
     "output_type": "stream",
     "text": [
      "[t-SNE] Computing 151 nearest neighbors...\n",
      "[t-SNE] Indexed 389 samples in 0.002s...\n",
      "[t-SNE] Computed neighbors for 389 samples in 0.006s...\n",
      "[t-SNE] Computed conditional probabilities for sample 389 / 389\n",
      "[t-SNE] Mean sigma: 3.816177\n",
      "[t-SNE] KL divergence after 250 iterations with early exaggeration: 55.627266\n",
      "[t-SNE] KL divergence after 950 iterations: 0.363297\n"
     ]
    },
    {
     "data": {
      "text/html": [
       "<div>\n",
       "<style scoped>\n",
       "    .dataframe tbody tr th:only-of-type {\n",
       "        vertical-align: middle;\n",
       "    }\n",
       "\n",
       "    .dataframe tbody tr th {\n",
       "        vertical-align: top;\n",
       "    }\n",
       "\n",
       "    .dataframe thead th {\n",
       "        text-align: right;\n",
       "    }\n",
       "</style>\n",
       "<table border=\"1\" class=\"dataframe\">\n",
       "  <thead>\n",
       "    <tr style=\"text-align: right;\">\n",
       "      <th></th>\n",
       "      <th>d1</th>\n",
       "      <th>d2</th>\n",
       "    </tr>\n",
       "  </thead>\n",
       "  <tbody>\n",
       "    <tr>\n",
       "      <th>0</th>\n",
       "      <td>15.518286</td>\n",
       "      <td>-10.648542</td>\n",
       "    </tr>\n",
       "    <tr>\n",
       "      <th>1</th>\n",
       "      <td>13.644543</td>\n",
       "      <td>-11.632759</td>\n",
       "    </tr>\n",
       "    <tr>\n",
       "      <th>2</th>\n",
       "      <td>-7.391177</td>\n",
       "      <td>6.064359</td>\n",
       "    </tr>\n",
       "    <tr>\n",
       "      <th>3</th>\n",
       "      <td>-10.942030</td>\n",
       "      <td>5.927160</td>\n",
       "    </tr>\n",
       "    <tr>\n",
       "      <th>4</th>\n",
       "      <td>-13.431305</td>\n",
       "      <td>8.032652</td>\n",
       "    </tr>\n",
       "  </tbody>\n",
       "</table>\n",
       "</div>"
      ],
      "text/plain": [
       "          d1         d2\n",
       "0  15.518286 -10.648542\n",
       "1  13.644543 -11.632759\n",
       "2  -7.391177   6.064359\n",
       "3 -10.942030   5.927160\n",
       "4 -13.431305   8.032652"
      ]
     },
     "execution_count": 19,
     "metadata": {},
     "output_type": "execute_result"
    }
   ],
   "source": [
    "tsne_x = df.drop(columns=['Position', '40 Yd Dash', 'Bench', 'Vertical'])\n",
    "tsne_y = df[['Position']]\n",
    "tsne_x_train, tsne_x_test, tsne_y_train, tsne_y_test = train_test_split(tsne_x, tsne_y, test_size=0.2,\n",
    "                                                                                random_state=73)\n",
    "\n",
    "tsne = TSNE(n_components=2, verbose=1, perplexity=50, n_iter=2000)\n",
    "tsne_output = tsne.fit_transform(tsne_x_train)\n",
    "tsne_df = pd.DataFrame(tsne_output, columns = ['d1', 'd2'])\n",
    "tsne_df.head()"
   ]
  },
  {
   "cell_type": "code",
   "execution_count": 20,
   "id": "ee54e2a2",
   "metadata": {},
   "outputs": [
    {
     "data": {
      "text/plain": [
       "<matplotlib.legend.Legend at 0x7fcb136c54f0>"
      ]
     },
     "execution_count": 20,
     "metadata": {},
     "output_type": "execute_result"
    },
    {
     "data": {
      "image/png": "[encoded data removed]",
      "text/plain": [
       "<Figure size 432x288 with 1 Axes>"
      ]
     },
     "metadata": {
      "needs_background": "light"
     },
     "output_type": "display_data"
    }
   ],
   "source": [
    "tsne_plot = sns.scatterplot(\n",
    "    x=\"d1\", y=\"d2\",\n",
    "    hue=tsne_y_train['Position'].values,\n",
    "    palette=sns.color_palette(\"hls\", 2),\n",
    "    data=tsne_df,\n",
    "    legend=\"full\",\n",
    "    alpha=0.3)\n",
    "tsne_plot.set_title('NFL Position Classification t-SNE plot')\n",
    "tsne_plot.legend(['CB', 'WR'])"
   ]
  },
  {
   "cell_type": "markdown",
   "id": "518920dc",
   "metadata": {},
   "source": [
    "# Model Data"
   ]
  },
  {
   "cell_type": "markdown",
   "id": "593d29e8",
   "metadata": {},
   "source": [
    "Create x and y variables"
   ]
  },
  {
   "cell_type": "code",
   "execution_count": 21,
   "id": "da29e9d9",
   "metadata": {},
   "outputs": [
    {
     "data": {
      "text/html": [
       "<div>\n",
       "<style scoped>\n",
       "    .dataframe tbody tr th:only-of-type {\n",
       "        vertical-align: middle;\n",
       "    }\n",
       "\n",
       "    .dataframe tbody tr th {\n",
       "        vertical-align: top;\n",
       "    }\n",
       "\n",
       "    .dataframe thead th {\n",
       "        text-align: right;\n",
       "    }\n",
       "</style>\n",
       "<table border=\"1\" class=\"dataframe\">\n",
       "  <thead>\n",
       "    <tr style=\"text-align: right;\">\n",
       "      <th></th>\n",
       "      <th>Height</th>\n",
       "      <th>Weight</th>\n",
       "      <th>Broad Jump</th>\n",
       "    </tr>\n",
       "  </thead>\n",
       "  <tbody>\n",
       "    <tr>\n",
       "      <th>0</th>\n",
       "      <td>72.0</td>\n",
       "      <td>198.0</td>\n",
       "      <td>125.6</td>\n",
       "    </tr>\n",
       "    <tr>\n",
       "      <th>1</th>\n",
       "      <td>68.0</td>\n",
       "      <td>180.0</td>\n",
       "      <td>121.0</td>\n",
       "    </tr>\n",
       "    <tr>\n",
       "      <th>2</th>\n",
       "      <td>73.0</td>\n",
       "      <td>187.0</td>\n",
       "      <td>126.6</td>\n",
       "    </tr>\n",
       "    <tr>\n",
       "      <th>3</th>\n",
       "      <td>73.0</td>\n",
       "      <td>197.0</td>\n",
       "      <td>129.0</td>\n",
       "    </tr>\n",
       "    <tr>\n",
       "      <th>4</th>\n",
       "      <td>72.0</td>\n",
       "      <td>205.0</td>\n",
       "      <td>120.0</td>\n",
       "    </tr>\n",
       "  </tbody>\n",
       "</table>\n",
       "</div>"
      ],
      "text/plain": [
       "   Height  Weight  Broad Jump\n",
       "0    72.0   198.0       125.6\n",
       "1    68.0   180.0       121.0\n",
       "2    73.0   187.0       126.6\n",
       "3    73.0   197.0       129.0\n",
       "4    72.0   205.0       120.0"
      ]
     },
     "execution_count": 21,
     "metadata": {},
     "output_type": "execute_result"
    }
   ],
   "source": [
    "x = df.drop(columns=['Position', '40 Yd Dash', 'Bench', 'Vertical'])\n",
    "y = df['Position']\n",
    "x.head()"
   ]
  },
  {
   "cell_type": "markdown",
   "id": "b2912fa2",
   "metadata": {},
   "source": [
    "Perform train test split on x and y variables"
   ]
  },
  {
   "cell_type": "code",
   "execution_count": 22,
   "id": "910abf60",
   "metadata": {},
   "outputs": [
    {
     "data": {
      "text/html": [
       "<div>\n",
       "<style scoped>\n",
       "    .dataframe tbody tr th:only-of-type {\n",
       "        vertical-align: middle;\n",
       "    }\n",
       "\n",
       "    .dataframe tbody tr th {\n",
       "        vertical-align: top;\n",
       "    }\n",
       "\n",
       "    .dataframe thead th {\n",
       "        text-align: right;\n",
       "    }\n",
       "</style>\n",
       "<table border=\"1\" class=\"dataframe\">\n",
       "  <thead>\n",
       "    <tr style=\"text-align: right;\">\n",
       "      <th></th>\n",
       "      <th>Height</th>\n",
       "      <th>Weight</th>\n",
       "      <th>Broad Jump</th>\n",
       "    </tr>\n",
       "  </thead>\n",
       "  <tbody>\n",
       "    <tr>\n",
       "      <th>346</th>\n",
       "      <td>77.0</td>\n",
       "      <td>227.0</td>\n",
       "      <td>128.0</td>\n",
       "    </tr>\n",
       "    <tr>\n",
       "      <th>341</th>\n",
       "      <td>72.0</td>\n",
       "      <td>226.0</td>\n",
       "      <td>120.0</td>\n",
       "    </tr>\n",
       "    <tr>\n",
       "      <th>394</th>\n",
       "      <td>71.0</td>\n",
       "      <td>190.0</td>\n",
       "      <td>120.0</td>\n",
       "    </tr>\n",
       "    <tr>\n",
       "      <th>190</th>\n",
       "      <td>70.0</td>\n",
       "      <td>186.0</td>\n",
       "      <td>122.0</td>\n",
       "    </tr>\n",
       "    <tr>\n",
       "      <th>133</th>\n",
       "      <td>70.0</td>\n",
       "      <td>181.0</td>\n",
       "      <td>121.0</td>\n",
       "    </tr>\n",
       "  </tbody>\n",
       "</table>\n",
       "</div>"
      ],
      "text/plain": [
       "     Height  Weight  Broad Jump\n",
       "346    77.0   227.0       128.0\n",
       "341    72.0   226.0       120.0\n",
       "394    71.0   190.0       120.0\n",
       "190    70.0   186.0       122.0\n",
       "133    70.0   181.0       121.0"
      ]
     },
     "execution_count": 22,
     "metadata": {},
     "output_type": "execute_result"
    }
   ],
   "source": [
    "x_train, x_test, y_train, y_test = train_test_split(x, y, test_size=0.2, random_state=73)\n",
    "x_train.head()"
   ]
  },
  {
   "cell_type": "markdown",
   "id": "7f55bbf8",
   "metadata": {},
   "source": [
    "Standard scale x variable"
   ]
  },
  {
   "cell_type": "code",
   "execution_count": 23,
   "id": "cf9dee3f",
   "metadata": {},
   "outputs": [
    {
     "data": {
      "text/html": [
       "<div>\n",
       "<style scoped>\n",
       "    .dataframe tbody tr th:only-of-type {\n",
       "        vertical-align: middle;\n",
       "    }\n",
       "\n",
       "    .dataframe tbody tr th {\n",
       "        vertical-align: top;\n",
       "    }\n",
       "\n",
       "    .dataframe thead th {\n",
       "        text-align: right;\n",
       "    }\n",
       "</style>\n",
       "<table border=\"1\" class=\"dataframe\">\n",
       "  <thead>\n",
       "    <tr style=\"text-align: right;\">\n",
       "      <th></th>\n",
       "      <th>Height</th>\n",
       "      <th>Weight</th>\n",
       "      <th>Broad Jump</th>\n",
       "    </tr>\n",
       "  </thead>\n",
       "  <tbody>\n",
       "    <tr>\n",
       "      <th>346</th>\n",
       "      <td>2.235260</td>\n",
       "      <td>2.123139</td>\n",
       "      <td>0.969250</td>\n",
       "    </tr>\n",
       "    <tr>\n",
       "      <th>341</th>\n",
       "      <td>-0.226564</td>\n",
       "      <td>2.045436</td>\n",
       "      <td>-0.528493</td>\n",
       "    </tr>\n",
       "    <tr>\n",
       "      <th>394</th>\n",
       "      <td>-0.718929</td>\n",
       "      <td>-0.751869</td>\n",
       "      <td>-0.528493</td>\n",
       "    </tr>\n",
       "    <tr>\n",
       "      <th>190</th>\n",
       "      <td>-1.211293</td>\n",
       "      <td>-1.062680</td>\n",
       "      <td>-0.154057</td>\n",
       "    </tr>\n",
       "    <tr>\n",
       "      <th>133</th>\n",
       "      <td>-1.211293</td>\n",
       "      <td>-1.451195</td>\n",
       "      <td>-0.341275</td>\n",
       "    </tr>\n",
       "  </tbody>\n",
       "</table>\n",
       "</div>"
      ],
      "text/plain": [
       "       Height    Weight  Broad Jump\n",
       "346  2.235260  2.123139    0.969250\n",
       "341 -0.226564  2.045436   -0.528493\n",
       "394 -0.718929 -0.751869   -0.528493\n",
       "190 -1.211293 -1.062680   -0.154057\n",
       "133 -1.211293 -1.451195   -0.341275"
      ]
     },
     "execution_count": 23,
     "metadata": {},
     "output_type": "execute_result"
    }
   ],
   "source": [
    "ss = StandardScaler()\n",
    "ss.fit(x_train)\n",
    "x_train = pd.DataFrame(ss.transform(x_train), columns=x_train.columns, index=x_train.index)\n",
    "x_test = pd.DataFrame(ss.transform(x_test), columns=x_test.columns, index=x_test.index)\n",
    "x_train.head()"
   ]
  },
  {
   "cell_type": "markdown",
   "id": "b906ad88",
   "metadata": {},
   "source": [
    "Build and validate dummy classifier"
   ]
  },
  {
   "cell_type": "code",
   "execution_count": 24,
   "id": "fea3bc51",
   "metadata": {},
   "outputs": [
    {
     "name": "stdout",
     "output_type": "stream",
     "text": [
      "Dummy Classifier\n",
      "Train f1 score:  0.5757575757575758\n",
      "Train Accuracy score:  0.4961439588688946\n",
      "Test f1 score:  0.5811965811965812\n",
      "Test Accuracy score:  0.5\n"
     ]
    }
   ],
   "source": [
    "dc = DummyClassifier(strategy='stratified', random_state=77)\n",
    "dc.fit(x_train, y_train)\n",
    "y_train_pred_dc = dc.predict(x_train)\n",
    "y_test_pred_dc = dc.predict(x_test)\n",
    "print('Dummy Classifier')\n",
    "print('Train f1 score: ', f1_score(y_train, y_train_pred_dc))\n",
    "print('Train Accuracy score: ', accuracy_score(y_train, y_train_pred_dc))\n",
    "print('Test f1 score: ', f1_score(y_test, y_test_pred_dc))\n",
    "print('Test Accuracy score: ', accuracy_score(y_test, y_test_pred_dc))"
   ]
  },
  {
   "cell_type": "markdown",
   "id": "84191a94",
   "metadata": {},
   "source": [
    "Create confusion matrix for dummy classifier"
   ]
  },
  {
   "cell_type": "code",
   "execution_count": 25,
   "id": "1c30d608",
   "metadata": {},
   "outputs": [
    {
     "data": {
      "text/plain": [
       "[Text(0, 0.5, 'CB'), Text(0, 1.5, 'WR')]"
      ]
     },
     "execution_count": 25,
     "metadata": {},
     "output_type": "execute_result"
    },
    {
     "data": {
      "image/png": "[encoded data removed]",
      "text/plain": [
       "<Figure size 360x360 with 2 Axes>"
      ]
     },
     "metadata": {
      "needs_background": "light"
     },
     "output_type": "display_data"
    }
   ],
   "source": [
    "dc_cm = confusion_matrix(y_test, y_test_pred_dc)\n",
    "fig, ax = plt.subplots(figsize=(5,5))\n",
    "dc_matrix = sns.heatmap(dc_cm/np.sum(dc_cm), annot=True, ax = ax, cmap = 'Blues', fmt = '.1%')\n",
    "dc_matrix.set_title('Dummy Classifier Confusion Matrix')\n",
    "dc_matrix.set_xlabel('Predicted')\n",
    "dc_matrix.set_xticklabels(['CB','WR'])\n",
    "dc_matrix.set_ylabel('Actual')\n",
    "dc_matrix.set_yticklabels(['CB','WR'])"
   ]
  },
  {
   "cell_type": "markdown",
   "id": "8baa003e",
   "metadata": {},
   "source": [
    "Gridsearch logistic regression model"
   ]
  },
  {
   "cell_type": "code",
   "execution_count": 26,
   "id": "63ce64e5",
   "metadata": {},
   "outputs": [
    {
     "name": "stdout",
     "output_type": "stream",
     "text": [
      "Fitting 5 folds for each of 2000 candidates, totalling 10000 fits\n",
      "{'C': 0.632}\n",
      "0.7346153846153847\n"
     ]
    }
   ],
   "source": [
    "gs_lr_dict = {'C': [x/1000 for x in range(1, 2001)]}\n",
    "gs_lr_model = LogisticRegression(random_state=1)\n",
    "gs_lr = GridSearchCV(gs_lr_model, gs_lr_dict, scoring='f1', n_jobs=1, cv=5, verbose=1)\n",
    "gs_lr.fit(x_train, y_train)\n",
    "print(gs_lr.best_params_)\n",
    "print(gs_lr.best_score_)"
   ]
  },
  {
   "cell_type": "markdown",
   "id": "fa72fb67",
   "metadata": {},
   "source": [
    "Fit and evaluate top performing logistic regression model from gridsearch"
   ]
  },
  {
   "cell_type": "code",
   "execution_count": 31,
   "id": "5799dd6b",
   "metadata": {},
   "outputs": [
    {
     "name": "stdout",
     "output_type": "stream",
     "text": [
      "Logistic Regression\n",
      "Train f1 score:  0.7331887201735359\n",
      "Train Accuracy score:  0.6838046272493573\n",
      "Test f1 score:  0.7027027027027026\n",
      "Test Accuracy score:  0.6632653061224489\n"
     ]
    }
   ],
   "source": [
    "lr = LogisticRegression(C=.632, random_state=1)\n",
    "lr.fit(x_train, y_train)\n",
    "y_train_pred_lr = lr.predict(x_train)\n",
    "y_test_pred_lr = lr.predict(x_test)\n",
    "print('Logistic Regression')\n",
    "print('Train f1 score: ', f1_score(y_train, y_train_pred_lr))\n",
    "print('Train Accuracy score: ', accuracy_score(y_train, y_train_pred_lr))\n",
    "print('Test f1 score: ', f1_score(y_test, y_test_pred_lr))\n",
    "print('Test Accuracy score: ', accuracy_score(y_test, y_test_pred_lr))"
   ]
  },
  {
   "cell_type": "markdown",
   "id": "2e3cc758",
   "metadata": {},
   "source": [
    "Create confusion matrix for logistic regression"
   ]
  },
  {
   "cell_type": "code",
   "execution_count": 28,
   "id": "e480c0ff",
   "metadata": {},
   "outputs": [
    {
     "data": {
      "text/plain": [
       "[Text(0, 0.5, 'CB'), Text(0, 1.5, 'WR')]"
      ]
     },
     "execution_count": 28,
     "metadata": {},
     "output_type": "execute_result"
    },
    {
     "data": {
      "image/png": "[encoded data removed]",
      "text/plain": [
       "<Figure size 360x360 with 2 Axes>"
      ]
     },
     "metadata": {
      "needs_background": "light"
     },
     "output_type": "display_data"
    }
   ],
   "source": [
    "lr_cm = confusion_matrix(y_test, y_test_pred_lr)\n",
    "fig, ax = plt.subplots(figsize=(5,5))\n",
    "lr_matrix = sns.heatmap(lr_cm/np.sum(lr_cm), annot=True, ax = ax, cmap = 'Blues', fmt = '.1%')\n",
    "lr_matrix.set_title('Logistic Regression Confusion Matrix')\n",
    "lr_matrix.set_xlabel('Predicted')\n",
    "lr_matrix.set_xticklabels(['CB','WR'])\n",
    "lr_matrix.set_ylabel('Actual')\n",
    "lr_matrix.set_yticklabels(['CB','WR'])"
   ]
  },
  {
   "cell_type": "markdown",
   "id": "a96c54db",
   "metadata": {},
   "source": [
    "Gridsearch Adaboost model"
   ]
  },
  {
   "cell_type": "code",
   "execution_count": 29,
   "id": "ada78b69",
   "metadata": {},
   "outputs": [
    {
     "name": "stdout",
     "output_type": "stream",
     "text": [
      "Fitting 5 folds for each of 2000 candidates, totalling 10000 fits\n",
      "{'learning_rate': 0.068}\n",
      "0.7414487844122425\n"
     ]
    }
   ],
   "source": [
    "gs_ab_dict = {'learning_rate': [x/1000 for x in range(1, 2001)]}\n",
    "gs_ab_model = AdaBoostClassifier(random_state=94)\n",
    "gs_ab = GridSearchCV(gs_ab_model, gs_ab_dict, scoring='f1', n_jobs=1, cv=5, verbose=1)\n",
    "gs_ab.fit(x_train, y_train)\n",
    "print(gs_ab.best_params_)\n",
    "print(gs_ab.best_score_)"
   ]
  },
  {
   "cell_type": "markdown",
   "id": "41f20839",
   "metadata": {},
   "source": [
    "Fit and evaluate top performing adaboost model from gridsearch"
   ]
  },
  {
   "cell_type": "code",
   "execution_count": 30,
   "id": "2f009083",
   "metadata": {},
   "outputs": [
    {
     "name": "stdout",
     "output_type": "stream",
     "text": [
      "AdaBoost\n",
      "Train f1 score:  0.7579908675799087\n",
      "Train Accuracy score:  0.7275064267352185\n",
      "Test f1 score:  0.6915887850467289\n",
      "Test Accuracy score:  0.6632653061224489\n"
     ]
    }
   ],
   "source": [
    "ab = AdaBoostClassifier(random_state=94, learning_rate=.068)\n",
    "ab.fit(x_train, y_train)\n",
    "y_train_pred_ab = ab.predict(x_train)\n",
    "y_test_pred_ab = ab.predict(x_test)\n",
    "print('AdaBoost')\n",
    "print('Train f1 score: ', f1_score(y_train, y_train_pred_ab))\n",
    "print('Train Accuracy score: ', accuracy_score(y_train, y_train_pred_ab))\n",
    "print('Test f1 score: ', f1_score(y_test, y_test_pred_ab))\n",
    "print('Test Accuracy score: ', accuracy_score(y_test, y_test_pred_ab))"
   ]
  },
  {
   "cell_type": "markdown",
   "id": "da77902f",
   "metadata": {},
   "source": [
    "Create confusion matrix for adaboost"
   ]
  },
  {
   "cell_type": "code",
   "execution_count": 73,
   "id": "67dbe576",
   "metadata": {},
   "outputs": [
    {
     "data": {
      "text/plain": [
       "[Text(0, 0.5, 'CB'), Text(0, 1.5, 'WR')]"
      ]
     },
     "execution_count": 73,
     "metadata": {},
     "output_type": "execute_result"
    },
    {
     "data": {
      "image/png": "[encoded data removed]",
      "text/plain": [
       "<Figure size 360x360 with 2 Axes>"
      ]
     },
     "metadata": {
      "needs_background": "light"
     },
     "output_type": "display_data"
    }
   ],
   "source": [
    "lr_cm = confusion_matrix(y_test, y_test_pred_ab)\n",
    "fig, ax = plt.subplots(figsize=(5,5))\n",
    "lr_matrix = sns.heatmap(lr_cm/np.sum(lr_cm), annot=True, ax = ax, cmap = 'Blues', fmt = '.1%')\n",
    "lr_matrix.set_title('AdaBoost Confusion Matrix')\n",
    "lr_matrix.set_xlabel('Predicted')\n",
    "lr_matrix.set_xticklabels(['CB','WR'])\n",
    "lr_matrix.set_ylabel('Actual')\n",
    "lr_matrix.set_yticklabels(['CB','WR'])"
   ]
  },
  {
   "cell_type": "markdown",
   "id": "881efa90",
   "metadata": {},
   "source": [
    "Gridsearch Random Forest model"
   ]
  },
  {
   "cell_type": "code",
   "execution_count": 69,
   "id": "d8742c02",
   "metadata": {},
   "outputs": [
    {
     "name": "stdout",
     "output_type": "stream",
     "text": [
      "Fitting 5 folds for each of 150 candidates, totalling 750 fits\n",
      "Random Forest\n",
      "Best score: 0.7635169493423345\n",
      "Best params: {'criterion': 'gini', 'max_features': 0.33, 'max_samples': 0.93, 'min_samples_split': 0.55}\n"
     ]
    }
   ],
   "source": [
    "gs_rf_dict = {'max_features': [.33, .66, .99],\n",
    "             'max_samples': [.91, .92, .93, .94, .95],\n",
    "             'min_samples_split': [.53, .54, .55, .56, .57],\n",
    "             'criterion': ['gini', 'entropy']}\n",
    "gs_rf_model = RandomForestClassifier(random_state=21)\n",
    "gs_rf = GridSearchCV(estimator=gs_rf_model, param_grid=gs_rf_dict, scoring='f1', n_jobs=-1, cv=5, verbose=1)\n",
    "gs_rf.fit(x_train, y_train)\n",
    "print('Random Forest')\n",
    "print('Best score:', gs_rf.best_score_)\n",
    "print('Best params:', gs_rf.best_params_)"
   ]
  },
  {
   "cell_type": "markdown",
   "id": "cf19dfcc",
   "metadata": {},
   "source": [
    "Fit and evaluate top performing random forest model from gridsearch"
   ]
  },
  {
   "cell_type": "code",
   "execution_count": 72,
   "id": "961e3575",
   "metadata": {},
   "outputs": [
    {
     "name": "stdout",
     "output_type": "stream",
     "text": [
      "Random Forest\n",
      "Train f1 score:  0.768888888888889\n",
      "Train Accuracy score:  0.7326478149100257\n",
      "Test f1 score:  0.7027027027027026\n",
      "Test Accuracy score:  0.6632653061224489\n"
     ]
    }
   ],
   "source": [
    "rf = RandomForestClassifier(random_state=21, criterion='gini', max_features= .33, max_samples=.93, \n",
    "                        min_samples_split=.55)\n",
    "rf.fit(x_train, y_train)\n",
    "y_train_pred_rf = rf.predict(x_train)\n",
    "y_test_pred_rf = rf.predict(x_test)\n",
    "print('Random Forest')\n",
    "print('Train f1 score: ', f1_score(y_train, y_train_pred_rf))\n",
    "print('Train Accuracy score: ', accuracy_score(y_train, y_train_pred_rf))\n",
    "print('Test f1 score: ', f1_score(y_test, y_test_pred_rf))\n",
    "print('Test Accuracy score: ', accuracy_score(y_test, y_test_pred_rf))"
   ]
  },
  {
   "cell_type": "markdown",
   "id": "2c527129",
   "metadata": {},
   "source": [
    "Create confusion matrix for random forest"
   ]
  },
  {
   "cell_type": "code",
   "execution_count": 75,
   "id": "943e6c42",
   "metadata": {},
   "outputs": [
    {
     "data": {
      "text/plain": [
       "[Text(0, 0.5, 'CB'), Text(0, 1.5, 'WR')]"
      ]
     },
     "execution_count": 75,
     "metadata": {},
     "output_type": "execute_result"
    },
    {
     "data": {
      "image/png": "[encoded data removed]",
      "text/plain": [
       "<Figure size 360x360 with 2 Axes>"
      ]
     },
     "metadata": {
      "needs_background": "light"
     },
     "output_type": "display_data"
    }
   ],
   "source": [
    "lr_cm = confusion_matrix(y_test, y_test_pred_rf)\n",
    "fig, ax = plt.subplots(figsize=(5,5))\n",
    "lr_matrix = sns.heatmap(lr_cm/np.sum(lr_cm), annot=True, ax = ax, cmap = 'Blues', fmt = '.1%')\n",
    "lr_matrix.set_title('Random Forest Confusion Matrix')\n",
    "lr_matrix.set_xlabel('Predicted')\n",
    "lr_matrix.set_xticklabels(['CB','WR'])\n",
    "lr_matrix.set_ylabel('Actual')\n",
    "lr_matrix.set_yticklabels(['CB','WR'])"
   ]
  },
  {
   "cell_type": "code",
   "execution_count": null,
   "id": "f9df4334",
   "metadata": {},
   "outputs": [],
   "source": []
  },
  {
   "cell_type": "code",
   "execution_count": null,
   "id": "a5ab274e",
   "metadata": {},
   "outputs": [],
   "source": []
  }
 ],
 "metadata": {
  "kernelspec": {
   "display_name": "Python 3",
   "language": "python",
   "name": "python3"
  },
  "language_info": {
   "codemirror_mode": {
    "name": "ipython",
    "version": 3
   },
   "file_extension": ".py",
   "mimetype": "text/x-python",
   "name": "python",
   "nbconvert_exporter": "python",
   "pygments_lexer": "ipython3",
   "version": "3.9.5"
  }
 },
 "nbformat": 4,
 "nbformat_minor": 5
}
