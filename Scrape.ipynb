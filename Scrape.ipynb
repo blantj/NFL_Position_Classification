{
 "cells": [
  {
   "cell_type": "markdown",
   "id": "9baa8ec7",
   "metadata": {},
   "source": [
    "# Import Libraries"
   ]
  },
  {
   "cell_type": "code",
   "execution_count": 1,
   "id": "12a974da",
   "metadata": {},
   "outputs": [],
   "source": [
    "import requests\n",
    "from bs4 import BeautifulSoup\n",
    "import pandas as pd"
   ]
  },
  {
   "cell_type": "markdown",
   "id": "7f25fc2e",
   "metadata": {},
   "source": [
    "# Scrape Combine Data"
   ]
  },
  {
   "cell_type": "markdown",
   "id": "e49d307c",
   "metadata": {},
   "source": [
    "Create list of urls with nfl draft combine data to scrape"
   ]
  },
  {
   "cell_type": "code",
   "execution_count": 2,
   "id": "a9d62045",
   "metadata": {},
   "outputs": [],
   "source": [
    "urls = []\n",
    "for year in range(2015, 2021):\n",
    "    urls.append(f'https://www.pro-football-reference.com/draft/{year}-combine.htm')"
   ]
  },
  {
   "cell_type": "markdown",
   "id": "bd8278ca",
   "metadata": {},
   "source": [
    "Scrape nfl draft combine urls and parse for combine data"
   ]
  },
  {
   "cell_type": "code",
   "execution_count": 3,
   "id": "e57dca9a",
   "metadata": {},
   "outputs": [],
   "source": [
    "data = []\n",
    "for url in urls:\n",
    "    year = url.split('/')[-1][0:4]\n",
    "    response = requests.get(url, timeout=5)\n",
    "    soup = BeautifulSoup(response.content, 'html.parser')\n",
    "    table = soup.find('div', {'id': 'div_combine'})\n",
    "    body = table.find('tbody')\n",
    "    rows = body.find_all('tr')\n",
    "    for row in rows:\n",
    "        row_data = []\n",
    "        row_data.append(year)\n",
    "        row_data.append(row.find('th').text)\n",
    "        for datapoint in row.find_all('td'):\n",
    "            row_data.append(datapoint.text)\n",
    "        data.append(row_data)"
   ]
  },
  {
   "cell_type": "markdown",
   "id": "28c523ad",
   "metadata": {},
   "source": [
    "Save nfl draft combine data to df"
   ]
  },
  {
   "cell_type": "code",
   "execution_count": 4,
   "id": "438b1990",
   "metadata": {
    "scrolled": true
   },
   "outputs": [
    {
     "data": {
      "text/html": [
       "<div>\n",
       "<style scoped>\n",
       "    .dataframe tbody tr th:only-of-type {\n",
       "        vertical-align: middle;\n",
       "    }\n",
       "\n",
       "    .dataframe tbody tr th {\n",
       "        vertical-align: top;\n",
       "    }\n",
       "\n",
       "    .dataframe thead th {\n",
       "        text-align: right;\n",
       "    }\n",
       "</style>\n",
       "<table border=\"1\" class=\"dataframe\">\n",
       "  <thead>\n",
       "    <tr style=\"text-align: right;\">\n",
       "      <th></th>\n",
       "      <th>Year</th>\n",
       "      <th>Player</th>\n",
       "      <th>Position</th>\n",
       "      <th>School</th>\n",
       "      <th>College Stats</th>\n",
       "      <th>Height</th>\n",
       "      <th>Weight</th>\n",
       "      <th>40 Yd Dash</th>\n",
       "      <th>Vertical</th>\n",
       "      <th>Bench</th>\n",
       "      <th>Broad Jump</th>\n",
       "      <th>3 Cone</th>\n",
       "      <th>Shuttle</th>\n",
       "      <th>Draft</th>\n",
       "    </tr>\n",
       "  </thead>\n",
       "  <tbody>\n",
       "    <tr>\n",
       "      <th>0</th>\n",
       "      <td>2015</td>\n",
       "      <td>Ameer Abdullah</td>\n",
       "      <td>RB</td>\n",
       "      <td>Nebraska</td>\n",
       "      <td>College Stats</td>\n",
       "      <td>5-9</td>\n",
       "      <td>205</td>\n",
       "      <td>4.60</td>\n",
       "      <td>42.5</td>\n",
       "      <td>24</td>\n",
       "      <td>130</td>\n",
       "      <td>6.79</td>\n",
       "      <td>3.95</td>\n",
       "      <td>Detroit Lions / 2nd / 54th pick / 2015</td>\n",
       "    </tr>\n",
       "    <tr>\n",
       "      <th>1</th>\n",
       "      <td>2015</td>\n",
       "      <td>Nelson Agholor</td>\n",
       "      <td>WR</td>\n",
       "      <td>USC</td>\n",
       "      <td>College Stats</td>\n",
       "      <td>6-0</td>\n",
       "      <td>198</td>\n",
       "      <td>4.42</td>\n",
       "      <td></td>\n",
       "      <td>12</td>\n",
       "      <td></td>\n",
       "      <td></td>\n",
       "      <td></td>\n",
       "      <td>Philadelphia Eagles / 1st / 20th pick / 2015</td>\n",
       "    </tr>\n",
       "    <tr>\n",
       "      <th>2</th>\n",
       "      <td>2015</td>\n",
       "      <td>Jay Ajayi</td>\n",
       "      <td>RB</td>\n",
       "      <td>Boise State</td>\n",
       "      <td>College Stats</td>\n",
       "      <td>6-0</td>\n",
       "      <td>221</td>\n",
       "      <td>4.57</td>\n",
       "      <td>39.0</td>\n",
       "      <td>19</td>\n",
       "      <td>121</td>\n",
       "      <td>7.10</td>\n",
       "      <td>4.10</td>\n",
       "      <td>Miami Dolphins / 5th / 149th pick / 2015</td>\n",
       "    </tr>\n",
       "    <tr>\n",
       "      <th>3</th>\n",
       "      <td>2015</td>\n",
       "      <td>Kwon Alexander</td>\n",
       "      <td>OLB</td>\n",
       "      <td>LSU</td>\n",
       "      <td>College Stats</td>\n",
       "      <td>6-1</td>\n",
       "      <td>227</td>\n",
       "      <td>4.55</td>\n",
       "      <td>36.0</td>\n",
       "      <td>24</td>\n",
       "      <td>121</td>\n",
       "      <td>7.14</td>\n",
       "      <td>4.20</td>\n",
       "      <td>Tampa Bay Buccaneers / 4th / 124th pick / 2015</td>\n",
       "    </tr>\n",
       "    <tr>\n",
       "      <th>4</th>\n",
       "      <td>2015</td>\n",
       "      <td>Mario Alford</td>\n",
       "      <td>WR</td>\n",
       "      <td>West Virginia</td>\n",
       "      <td>College Stats</td>\n",
       "      <td>5-8</td>\n",
       "      <td>180</td>\n",
       "      <td>4.43</td>\n",
       "      <td>34.0</td>\n",
       "      <td>13</td>\n",
       "      <td>121</td>\n",
       "      <td>6.64</td>\n",
       "      <td>4.07</td>\n",
       "      <td>Cincinnati Bengals / 7th / 238th pick / 2015</td>\n",
       "    </tr>\n",
       "  </tbody>\n",
       "</table>\n",
       "</div>"
      ],
      "text/plain": [
       "   Year          Player Position         School  College Stats Height Weight  \\\n",
       "0  2015  Ameer Abdullah       RB       Nebraska  College Stats    5-9    205   \n",
       "1  2015  Nelson Agholor       WR            USC  College Stats    6-0    198   \n",
       "2  2015       Jay Ajayi       RB    Boise State  College Stats    6-0    221   \n",
       "3  2015  Kwon Alexander      OLB            LSU  College Stats    6-1    227   \n",
       "4  2015    Mario Alford       WR  West Virginia  College Stats    5-8    180   \n",
       "\n",
       "  40 Yd Dash Vertical Bench Broad Jump 3 Cone Shuttle  \\\n",
       "0       4.60     42.5    24        130   6.79    3.95   \n",
       "1       4.42             12                             \n",
       "2       4.57     39.0    19        121   7.10    4.10   \n",
       "3       4.55     36.0    24        121   7.14    4.20   \n",
       "4       4.43     34.0    13        121   6.64    4.07   \n",
       "\n",
       "                                            Draft  \n",
       "0          Detroit Lions / 2nd / 54th pick / 2015  \n",
       "1    Philadelphia Eagles / 1st / 20th pick / 2015  \n",
       "2        Miami Dolphins / 5th / 149th pick / 2015  \n",
       "3  Tampa Bay Buccaneers / 4th / 124th pick / 2015  \n",
       "4    Cincinnati Bengals / 7th / 238th pick / 2015  "
      ]
     },
     "execution_count": 4,
     "metadata": {},
     "output_type": "execute_result"
    }
   ],
   "source": [
    "columns = ['Year', 'Player', 'Position', 'School', 'College Stats', 'Height', 'Weight', '40 Yd Dash', 'Vertical',\n",
    "           'Bench', 'Broad Jump', '3 Cone', 'Shuttle', 'Draft']\n",
    "df = pd.DataFrame(data, columns=columns)\n",
    "df.head()"
   ]
  },
  {
   "cell_type": "markdown",
   "id": "f753e38b",
   "metadata": {},
   "source": [
    "Save nfl draft combine df to csv file"
   ]
  },
  {
   "cell_type": "code",
   "execution_count": 5,
   "id": "5404ee9f",
   "metadata": {},
   "outputs": [],
   "source": [
    "df.to_csv('Data/Combine_Data.csv', index=False)"
   ]
  }
 ],
 "metadata": {
  "kernelspec": {
   "display_name": "Python 3",
   "language": "python",
   "name": "python3"
  },
  "language_info": {
   "codemirror_mode": {
    "name": "ipython",
    "version": 3
   },
   "file_extension": ".py",
   "mimetype": "text/x-python",
   "name": "python",
   "nbconvert_exporter": "python",
   "pygments_lexer": "ipython3",
   "version": "3.9.5"
  }
 },
 "nbformat": 4,
 "nbformat_minor": 5
}
